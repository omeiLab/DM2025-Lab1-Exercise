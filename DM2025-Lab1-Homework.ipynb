{
 "cells": [
  {
   "cell_type": "markdown",
   "metadata": {},
   "source": [
    "### Student Information\n",
    "Name: 余承祐\n",
    "\n",
    "Student ID: 111062233\n",
    "\n",
    "GitHub ID: OmeiLab"
   ]
  },
  {
   "cell_type": "markdown",
   "metadata": {},
   "source": [
    "---"
   ]
  },
  {
   "cell_type": "markdown",
   "metadata": {},
   "source": [
    "### Instructions"
   ]
  },
  {
   "cell_type": "markdown",
   "metadata": {},
   "source": [
    "### First Phase Submission"
   ]
  },
  {
   "cell_type": "markdown",
   "metadata": {},
   "source": [
    "1. First: do the **take home** exercises in the [DM2025-Lab1-Master](https://github.com/leoson-wu/DM2025-Lab1-Exercise/blob/main/DM2025-Lab1-Master.ipynb) that considered as **phase 1 (from exercise 1 to exercise 15)**. You can answer in the master file. __This part is worth 10% of your grade.__\n",
    "\n",
    "\n",
    "2. Second: follow the same process from the [DM2025-Lab1-Master](https://github.com/leoson-wu/DM2025-Lab1-Exercise/blob/main/DM2025-Lab1-Master.ipynb) on **the new dataset** up **until phase 1**. You can skip some exercises if you think some steps are not necessary. However main exercises should be completed. You don't need to explain all details as we did (some **minimal comments** explaining your code are useful though).  __This part is worth 15% of your grade.__\n",
    "    -  Use [the new dataset](https://github.com/leoson-wu/DM2025-Lab1-Exercise/blob/main/newdataset/Reddit-stock-sentiment.csv). The dataset contains a 16 columns including 'text' and 'label', with the sentiment labels being: 1.0 is positive, 0.0 is neutral and -1.0 is negative. You can simplify the dataset and use only the columns that you think are necessary. \n",
    "    \n",
    "    - You are allowed to use and modify the `helper` functions in the folder of the first lab session (notice they may need modification) or create your own.\n",
    "    - Use this file to complete the homework from the second part. Make sure the code can be run from the beginning till the end and has all the needed output.\n",
    "\n",
    "\n",
    "3. Third: please attempt the following tasks on **the new dataset**. __This part is worth 10% of your grade.__\n",
    "    - Generate meaningful **new data visualizations**. Refer to online resources and the Data Mining textbook for inspiration and ideas. \n",
    "    \n",
    "\n",
    "\n",
    "4. Fourth: It's hard for us to follow if your code is messy, so please **tidy up your notebook** and **add minimal comments where needed**. __This part is worth 5% of your grade.__\n",
    "\n",
    "You can submit your homework following these guidelines: [DM2025-Lab1-announcement](https://github.com/leoson-wu/DM2025-Lab1-Announcement/blob/main/README.md). Make sure to commit and save your changes to your repository __BEFORE the deadline (September 28th 11:59 pm, Sunday)__. "
   ]
  },
  {
   "cell_type": "markdown",
   "metadata": {},
   "source": [
    "### Second Phase Submission "
   ]
  },
  {
   "cell_type": "markdown",
   "metadata": {},
   "source": [
    "**You can keep the answer for phase 1 for easier running and update the phase 2 on the same page.**\n",
    "\n",
    "1. First: Continue doing the **take home** exercises in the [DM2025-Lab1-Master](https://github.com/leoson-wu/DM2025-Lab1-Exercise/blob/main/DM2025-Lab1-Master.ipynb) for **phase 2, starting from Finding frequent patterns**. Use the same master(.ipynb) file. Answer from phase 1 will not be considered at this stage. You can answer in the master file. __This part is worth 10% of your grade.__\n",
    "\n",
    "\n",
    "2. Second: Continue from first phase and do the same process from the [DM2025-Lab1-Master](https://github.com/leoson-wu/DM2025-Lab1-Exercise/blob/main/DM2025-Lab1-Master.ipynb) on **the new dataset** for phase 2, starting from Finding frequent pattern. You can skip some exercises if you think some steps are not necessary. However main exercises should be completed. You don't need to explain all details as we did (some **minimal comments** explaining your code are useful though).  __This part is worth 15% of your grade.__\n",
    "    - Continue using this file to complete the homework from the second part. Make sure the code can be run from the beginning till the end and has all the needed output. Use the same new dataset as in phase 1.\n",
    "    \n",
    "    - You are allowed to use and modify the `helper` functions in the folder of the first lab session (notice they may need modification) or create your own.\n",
    "\n",
    "3. Third: please attempt the following tasks on **the new dataset**. __This part is worth 20% of your grade.__\n",
    "    - Use this file to answer.\n",
    "    - Generate **TF-IDF features** from the tokens of each text. This will generating a document matrix, however, the weights will be computed differently (using the TF-IDF value of each word per document as opposed to the word frequency).  Refer to this Scikit-learn [guide](http://scikit-learn.org/stable/modules/generated/sklearn.feature_extraction.text.TfidfVectorizer.html) .\n",
    "    - Implement a simple **Naive Bayes classifier** that automatically classifies the records into their categories. Use both the TF-IDF features and word frequency features to build two seperate classifiers. Note that for the TF-IDF features you might need to use other type of NB classifier different than the one in the Master Notebook. Comment on the differences and when using augmentation with feature pattern.  Refer to this [article](https://hub.packtpub.com/implementing-3-naive-bayes-classifiers-in-scikit-learn/).\n",
    "\n",
    "\n",
    "4. Fourth: In the lab, we applied each step really quickly just to illustrate how to work with your dataset. There are somethings that are not ideal or the most efficient/meaningful. Each dataset can be handled differently as well. What are those inefficent parts you noticed? How can you improve the Data preprocessing for these specific datasets? __This part is worth 10% of your grade.__\n",
    "\n",
    "\n",
    "5. Fifth: It's hard for us to follow if your code is messy, so please **tidy up your notebook** and **add minimal comments where needed**. __This part is worth 5% of your grade.__\n",
    "\n",
    "\n",
    "You can submit your homework following these guidelines: [DM2025-Lab1-announcement](https://github.com/leoson-wu/DM2025-Lab1-Announcement/blob/main/README.md). Make sure to commit and save your changes to your repository __BEFORE the deadline (October 19th 11:59 pm, Sunday)__. "
   ]
  },
  {
   "cell_type": "markdown",
   "metadata": {},
   "source": [
    "# Phase 1"
   ]
  },
  {
   "cell_type": "code",
   "execution_count": 40,
   "metadata": {},
   "outputs": [
    {
     "name": "stderr",
     "output_type": "stream",
     "text": [
      "[nltk_data] Downloading package punkt to\n",
      "[nltk_data]     C:\\Users\\user\\AppData\\Roaming\\nltk_data...\n",
      "[nltk_data]   Package punkt is already up-to-date!\n",
      "[nltk_data] Downloading package stopwords to\n",
      "[nltk_data]     C:\\Users\\user\\AppData\\Roaming\\nltk_data...\n",
      "[nltk_data]   Package stopwords is already up-to-date!\n",
      "[nltk_data] Downloading package punkt_tab to\n",
      "[nltk_data]     C:\\Users\\user\\AppData\\Roaming\\nltk_data...\n",
      "[nltk_data]   Package punkt_tab is already up-to-date!\n"
     ]
    },
    {
     "data": {
      "text/plain": [
       "True"
      ]
     },
     "execution_count": 40,
     "metadata": {},
     "output_type": "execute_result"
    }
   ],
   "source": [
    "### Begin Assignment Here\n",
    "# import necessary dataset\n",
    "import pandas as pd\n",
    "import numpy as np\n",
    "import nltk\n",
    "from sklearn.feature_extraction.text import CountVectorizer\n",
    "import matplotlib.pyplot as plt\n",
    "import seaborn as sns\n",
    "import plotly as py\n",
    "import plotly.express as px\n",
    "\n",
    "nltk.download('punkt')\n",
    "nltk.download('stopwords')\n",
    "nltk.download(\"punkt_tab\")"
   ]
  },
  {
   "cell_type": "markdown",
   "metadata": {},
   "source": [
    "## Data Preparation"
   ]
  },
  {
   "cell_type": "code",
   "execution_count": 2,
   "metadata": {},
   "outputs": [
    {
     "data": {
      "application/vnd.microsoft.datawrangler.viewer.v0+json": {
       "columns": [
        {
         "name": "index",
         "rawType": "int64",
         "type": "integer"
        },
        {
         "name": "type",
         "rawType": "object",
         "type": "string"
        },
        {
         "name": "datetime",
         "rawType": "object",
         "type": "string"
        },
        {
         "name": "post_id",
         "rawType": "object",
         "type": "string"
        },
        {
         "name": "subreddit",
         "rawType": "object",
         "type": "string"
        },
        {
         "name": "title",
         "rawType": "object",
         "type": "string"
        },
        {
         "name": "author",
         "rawType": "object",
         "type": "string"
        },
        {
         "name": "url",
         "rawType": "object",
         "type": "string"
        },
        {
         "name": "upvotes",
         "rawType": "int64",
         "type": "integer"
        },
        {
         "name": "downvotes",
         "rawType": "float64",
         "type": "float"
        },
        {
         "name": "upvote_ratio",
         "rawType": "float64",
         "type": "float"
        },
        {
         "name": "text",
         "rawType": "object",
         "type": "string"
        },
        {
         "name": "subjectivity",
         "rawType": "float64",
         "type": "float"
        },
        {
         "name": "polarity",
         "rawType": "float64",
         "type": "float"
        },
        {
         "name": "sentiment",
         "rawType": "float64",
         "type": "float"
        },
        {
         "name": "entities",
         "rawType": "object",
         "type": "string"
        },
        {
         "name": "label",
         "rawType": "float64",
         "type": "float"
        }
       ],
       "ref": "27c0a250-03c5-4ba8-8937-7dfbe9535fb6",
       "rows": [
        [
         "0",
         "comment",
         "2025-04-11 17:29:56",
         "mmli62w",
         "wallstreetbets",
         "Retardation is on the menu boys! WSB is so back",
         "StickyTip420",
         "https://i.redd.it/0yq2ftren8ue1.jpeg",
         "0",
         null,
         null,
         "Calls on retards",
         "1.0",
         "-0.9",
         "-1.0",
         "[]",
         "-1.0"
        ],
        [
         "1",
         "comment",
         "2025-04-12 1:12:19",
         "mmnu7v9",
         "wallstreetbets",
         "Retail giant TARGET has now declined for 10 consecutive weeks, its longest losing streak in history",
         "Comfortable-Dog-8437",
         "https://i.redd.it/7tl6puv9waue1.jpeg",
         "-15",
         null,
         null,
         "Stunt as in like why did they even make a big deal about starting it in the first place? No company should ever talk about politics ever.",
         "0.1777777777777777",
         "0.0833333333333333",
         "1.0",
         "['Stunt', 'company', 'deal', 'place']",
         "0.0"
        ],
        [
         "2",
         "comment",
         "2025-04-10 15:09:41",
         "mmeevio",
         "StockMarket",
         "How do you feel about a sitting president making $415M in one day after pumping his own stock with social media and a policy decision?",
         "Btankersly66",
         "https://apnews.com/article/trump-truth-social-djt-tesla-musk-tariffs-pause-fccfa6b06c8f1ec0cd7844641ca52669",
         "1",
         null,
         null,
         "Seeing lots of red in the ticker.",
         "0.0",
         "0.0",
         "0.0",
         "['ticker']",
         "0.0"
        ],
        [
         "3",
         "post",
         "2023-08-30 17:12:55",
         "165kllm",
         "stockstobuytoday",
         "Who knows more? $VMAR",
         "emiljenfn",
         "https://www.reddit.com/r/stockstobuytoday/comments/165kllm/who_knows_more_vmar/",
         "30",
         "0.0",
         "0.98",
         "Vision Marine Technologies Inc. is rewriting the watercraft rulebook. Their collaboration with Shaun Torrente has achieved the unthinkable – a blazing 116 mph on water! This isn't just about speed; it's about propelling electric boating into a new era. Their cutting-edge technology, combined with Torrente's skill, is making waves that'll ripple for generations.\r\n\r\n**Highlight Main Points**\r\n\r\n* Vision Marine Technologies Inc. achieves a record-breaking 116 mph speed on water with Shaun Torrente.\r\n* The feat highlights the power of electric boating and pushes the limits of innovation.\r\n* Partners like Octillion Power Systems and Danfoss Editron contribute to this groundbreaking achievement.\r\n\r\n**TLDR**\r\n\r\nHold onto your seats – Vision Marine Technologies Inc. and Shaun Torrente have shattered the water-speed record at an astonishing 116 mph!  This isn't just about speed; it's about pioneering electric boating and innovation. The collaboration of technology, skill, and passion is creating ripples that'll be felt for years to come in the world of watercraft.\r\n\r\n[]()",
         "0.646969696969697",
         "0.2163825757575757",
         "1.0",
         "['watercraft', 'skill', 'power', ']', 'feat', 'Marine', 'Main', 'Systems', 'Vision Marine Technologies Inc.', 'Vision', 'water', 'record', 'Torrente', 'passion', 'Inc.', 'Shaun', 'Octillion Power Systems', 'collaboration', 'innovation', 'rulebook', 'Points', '–', 'Hold', 'Danfoss', 'speed', 'mph', 'achievement', 'technology', 'Power', 'boating', 'Octillion', 'Highlight', 'TLDR', 'world', 'Editron', 'contribute', 'water-speed', '*', 'era']",
         "1.0"
        ],
        [
         "4",
         "comment",
         "2025-04-11 14:48:05",
         "mmkl6bw",
         "StockMarket",
         "The Trump administration is begging Xi Jinping to call Trump quickly.",
         "Just-Big6411",
         "https://edition.cnn.com/2025/04/10/politics/trump-xi-china-tariffs/index.html",
         "1",
         null,
         null,
         "He didn’t say thank you.",
         "0.0",
         "0.0",
         "0.0",
         "[]",
         "-1.0"
        ]
       ],
       "shape": {
        "columns": 16,
        "rows": 5
       }
      },
      "text/html": [
       "<div>\n",
       "<style scoped>\n",
       "    .dataframe tbody tr th:only-of-type {\n",
       "        vertical-align: middle;\n",
       "    }\n",
       "\n",
       "    .dataframe tbody tr th {\n",
       "        vertical-align: top;\n",
       "    }\n",
       "\n",
       "    .dataframe thead th {\n",
       "        text-align: right;\n",
       "    }\n",
       "</style>\n",
       "<table border=\"1\" class=\"dataframe\">\n",
       "  <thead>\n",
       "    <tr style=\"text-align: right;\">\n",
       "      <th></th>\n",
       "      <th>type</th>\n",
       "      <th>datetime</th>\n",
       "      <th>post_id</th>\n",
       "      <th>subreddit</th>\n",
       "      <th>title</th>\n",
       "      <th>author</th>\n",
       "      <th>url</th>\n",
       "      <th>upvotes</th>\n",
       "      <th>downvotes</th>\n",
       "      <th>upvote_ratio</th>\n",
       "      <th>text</th>\n",
       "      <th>subjectivity</th>\n",
       "      <th>polarity</th>\n",
       "      <th>sentiment</th>\n",
       "      <th>entities</th>\n",
       "      <th>label</th>\n",
       "    </tr>\n",
       "  </thead>\n",
       "  <tbody>\n",
       "    <tr>\n",
       "      <th>0</th>\n",
       "      <td>comment</td>\n",
       "      <td>2025-04-11 17:29:56</td>\n",
       "      <td>mmli62w</td>\n",
       "      <td>wallstreetbets</td>\n",
       "      <td>Retardation is on the menu boys! WSB is so back</td>\n",
       "      <td>StickyTip420</td>\n",
       "      <td>https://i.redd.it/0yq2ftren8ue1.jpeg</td>\n",
       "      <td>0</td>\n",
       "      <td>NaN</td>\n",
       "      <td>NaN</td>\n",
       "      <td>Calls on retards</td>\n",
       "      <td>1.000000</td>\n",
       "      <td>-0.900000</td>\n",
       "      <td>-1.0</td>\n",
       "      <td>[]</td>\n",
       "      <td>-1.0</td>\n",
       "    </tr>\n",
       "    <tr>\n",
       "      <th>1</th>\n",
       "      <td>comment</td>\n",
       "      <td>2025-04-12 1:12:19</td>\n",
       "      <td>mmnu7v9</td>\n",
       "      <td>wallstreetbets</td>\n",
       "      <td>Retail giant TARGET has now declined for 10 co...</td>\n",
       "      <td>Comfortable-Dog-8437</td>\n",
       "      <td>https://i.redd.it/7tl6puv9waue1.jpeg</td>\n",
       "      <td>-15</td>\n",
       "      <td>NaN</td>\n",
       "      <td>NaN</td>\n",
       "      <td>Stunt as in like why did they even make a big ...</td>\n",
       "      <td>0.177778</td>\n",
       "      <td>0.083333</td>\n",
       "      <td>1.0</td>\n",
       "      <td>['Stunt', 'company', 'deal', 'place']</td>\n",
       "      <td>0.0</td>\n",
       "    </tr>\n",
       "    <tr>\n",
       "      <th>2</th>\n",
       "      <td>comment</td>\n",
       "      <td>2025-04-10 15:09:41</td>\n",
       "      <td>mmeevio</td>\n",
       "      <td>StockMarket</td>\n",
       "      <td>How do you feel about a sitting president maki...</td>\n",
       "      <td>Btankersly66</td>\n",
       "      <td>https://apnews.com/article/trump-truth-social-...</td>\n",
       "      <td>1</td>\n",
       "      <td>NaN</td>\n",
       "      <td>NaN</td>\n",
       "      <td>Seeing lots of red in the ticker.</td>\n",
       "      <td>0.000000</td>\n",
       "      <td>0.000000</td>\n",
       "      <td>0.0</td>\n",
       "      <td>['ticker']</td>\n",
       "      <td>0.0</td>\n",
       "    </tr>\n",
       "    <tr>\n",
       "      <th>3</th>\n",
       "      <td>post</td>\n",
       "      <td>2023-08-30 17:12:55</td>\n",
       "      <td>165kllm</td>\n",
       "      <td>stockstobuytoday</td>\n",
       "      <td>Who knows more? $VMAR</td>\n",
       "      <td>emiljenfn</td>\n",
       "      <td>https://www.reddit.com/r/stockstobuytoday/comm...</td>\n",
       "      <td>30</td>\n",
       "      <td>0.0</td>\n",
       "      <td>0.98</td>\n",
       "      <td>Vision Marine Technologies Inc. is rewriting t...</td>\n",
       "      <td>0.646970</td>\n",
       "      <td>0.216383</td>\n",
       "      <td>1.0</td>\n",
       "      <td>['watercraft', 'skill', 'power', ']', 'feat', ...</td>\n",
       "      <td>1.0</td>\n",
       "    </tr>\n",
       "    <tr>\n",
       "      <th>4</th>\n",
       "      <td>comment</td>\n",
       "      <td>2025-04-11 14:48:05</td>\n",
       "      <td>mmkl6bw</td>\n",
       "      <td>StockMarket</td>\n",
       "      <td>The Trump administration is begging Xi Jinping...</td>\n",
       "      <td>Just-Big6411</td>\n",
       "      <td>https://edition.cnn.com/2025/04/10/politics/tr...</td>\n",
       "      <td>1</td>\n",
       "      <td>NaN</td>\n",
       "      <td>NaN</td>\n",
       "      <td>He didn’t say thank you.</td>\n",
       "      <td>0.000000</td>\n",
       "      <td>0.000000</td>\n",
       "      <td>0.0</td>\n",
       "      <td>[]</td>\n",
       "      <td>-1.0</td>\n",
       "    </tr>\n",
       "  </tbody>\n",
       "</table>\n",
       "</div>"
      ],
      "text/plain": [
       "      type             datetime  post_id         subreddit  \\\n",
       "0  comment  2025-04-11 17:29:56  mmli62w    wallstreetbets   \n",
       "1  comment   2025-04-12 1:12:19  mmnu7v9    wallstreetbets   \n",
       "2  comment  2025-04-10 15:09:41  mmeevio       StockMarket   \n",
       "3     post  2023-08-30 17:12:55  165kllm  stockstobuytoday   \n",
       "4  comment  2025-04-11 14:48:05  mmkl6bw       StockMarket   \n",
       "\n",
       "                                               title                author  \\\n",
       "0    Retardation is on the menu boys! WSB is so back          StickyTip420   \n",
       "1  Retail giant TARGET has now declined for 10 co...  Comfortable-Dog-8437   \n",
       "2  How do you feel about a sitting president maki...          Btankersly66   \n",
       "3                              Who knows more? $VMAR             emiljenfn   \n",
       "4  The Trump administration is begging Xi Jinping...          Just-Big6411   \n",
       "\n",
       "                                                 url  upvotes  downvotes  \\\n",
       "0               https://i.redd.it/0yq2ftren8ue1.jpeg        0        NaN   \n",
       "1               https://i.redd.it/7tl6puv9waue1.jpeg      -15        NaN   \n",
       "2  https://apnews.com/article/trump-truth-social-...        1        NaN   \n",
       "3  https://www.reddit.com/r/stockstobuytoday/comm...       30        0.0   \n",
       "4  https://edition.cnn.com/2025/04/10/politics/tr...        1        NaN   \n",
       "\n",
       "   upvote_ratio                                               text  \\\n",
       "0           NaN                                   Calls on retards   \n",
       "1           NaN  Stunt as in like why did they even make a big ...   \n",
       "2           NaN                  Seeing lots of red in the ticker.   \n",
       "3          0.98  Vision Marine Technologies Inc. is rewriting t...   \n",
       "4           NaN                           He didn’t say thank you.   \n",
       "\n",
       "   subjectivity  polarity  sentiment  \\\n",
       "0      1.000000 -0.900000       -1.0   \n",
       "1      0.177778  0.083333        1.0   \n",
       "2      0.000000  0.000000        0.0   \n",
       "3      0.646970  0.216383        1.0   \n",
       "4      0.000000  0.000000        0.0   \n",
       "\n",
       "                                            entities  label  \n",
       "0                                                 []   -1.0  \n",
       "1              ['Stunt', 'company', 'deal', 'place']    0.0  \n",
       "2                                         ['ticker']    0.0  \n",
       "3  ['watercraft', 'skill', 'power', ']', 'feat', ...    1.0  \n",
       "4                                                 []   -1.0  "
      ]
     },
     "execution_count": 2,
     "metadata": {},
     "output_type": "execute_result"
    }
   ],
   "source": [
    "df = pd.read_csv('newdataset/Reddit-stock-sentiment.csv')\n",
    "df.head()\t# check the top 5 rows of the dataset"
   ]
  },
  {
   "cell_type": "markdown",
   "metadata": {},
   "source": [
    "Let's generate a new dataset by removing some redundant columns. We will preserve these:\n",
    "- `type`\n",
    "  \n",
    "- `subreddit`\n",
    "- `title`\n",
    "- `upvotes`\n",
    "- `downvotes`\n",
    "- `upvote_ratio`\n",
    "- `text`\n",
    "- `subjectivity`\n",
    "- `polarity`\n",
    "- `sentiment`\n",
    "- `entities`\n",
    "- `label`\n",
    "\n",
    "These columns are just chosen by my intuition, that is, some columns will not be used then or even be dropped during the further analysis. "
   ]
  },
  {
   "cell_type": "code",
   "execution_count": 3,
   "metadata": {},
   "outputs": [
    {
     "data": {
      "application/vnd.microsoft.datawrangler.viewer.v0+json": {
       "columns": [
        {
         "name": "index",
         "rawType": "int64",
         "type": "integer"
        },
        {
         "name": "type",
         "rawType": "object",
         "type": "string"
        },
        {
         "name": "subreddit",
         "rawType": "object",
         "type": "string"
        },
        {
         "name": "title",
         "rawType": "object",
         "type": "string"
        },
        {
         "name": "upvotes",
         "rawType": "int64",
         "type": "integer"
        },
        {
         "name": "downvotes",
         "rawType": "float64",
         "type": "float"
        },
        {
         "name": "upvote_ratio",
         "rawType": "float64",
         "type": "float"
        },
        {
         "name": "text",
         "rawType": "object",
         "type": "string"
        },
        {
         "name": "subjectivity",
         "rawType": "float64",
         "type": "float"
        },
        {
         "name": "polarity",
         "rawType": "float64",
         "type": "float"
        },
        {
         "name": "sentiment",
         "rawType": "float64",
         "type": "float"
        },
        {
         "name": "entities",
         "rawType": "object",
         "type": "string"
        },
        {
         "name": "label",
         "rawType": "float64",
         "type": "float"
        }
       ],
       "ref": "6f675a16-9286-4626-b234-3e4496ec8852",
       "rows": [
        [
         "0",
         "comment",
         "wallstreetbets",
         "Retardation is on the menu boys! WSB is so back",
         "0",
         null,
         null,
         "Calls on retards",
         "1.0",
         "-0.9",
         "-1.0",
         "[]",
         "-1.0"
        ],
        [
         "1",
         "comment",
         "wallstreetbets",
         "Retail giant TARGET has now declined for 10 consecutive weeks, its longest losing streak in history",
         "-15",
         null,
         null,
         "Stunt as in like why did they even make a big deal about starting it in the first place? No company should ever talk about politics ever.",
         "0.1777777777777777",
         "0.0833333333333333",
         "1.0",
         "['Stunt', 'company', 'deal', 'place']",
         "0.0"
        ],
        [
         "2",
         "comment",
         "StockMarket",
         "How do you feel about a sitting president making $415M in one day after pumping his own stock with social media and a policy decision?",
         "1",
         null,
         null,
         "Seeing lots of red in the ticker.",
         "0.0",
         "0.0",
         "0.0",
         "['ticker']",
         "0.0"
        ],
        [
         "3",
         "post",
         "stockstobuytoday",
         "Who knows more? $VMAR",
         "30",
         "0.0",
         "0.98",
         "Vision Marine Technologies Inc. is rewriting the watercraft rulebook. Their collaboration with Shaun Torrente has achieved the unthinkable – a blazing 116 mph on water! This isn't just about speed; it's about propelling electric boating into a new era. Their cutting-edge technology, combined with Torrente's skill, is making waves that'll ripple for generations.\r\n\r\n**Highlight Main Points**\r\n\r\n* Vision Marine Technologies Inc. achieves a record-breaking 116 mph speed on water with Shaun Torrente.\r\n* The feat highlights the power of electric boating and pushes the limits of innovation.\r\n* Partners like Octillion Power Systems and Danfoss Editron contribute to this groundbreaking achievement.\r\n\r\n**TLDR**\r\n\r\nHold onto your seats – Vision Marine Technologies Inc. and Shaun Torrente have shattered the water-speed record at an astonishing 116 mph!  This isn't just about speed; it's about pioneering electric boating and innovation. The collaboration of technology, skill, and passion is creating ripples that'll be felt for years to come in the world of watercraft.\r\n\r\n[]()",
         "0.646969696969697",
         "0.2163825757575757",
         "1.0",
         "['watercraft', 'skill', 'power', ']', 'feat', 'Marine', 'Main', 'Systems', 'Vision Marine Technologies Inc.', 'Vision', 'water', 'record', 'Torrente', 'passion', 'Inc.', 'Shaun', 'Octillion Power Systems', 'collaboration', 'innovation', 'rulebook', 'Points', '–', 'Hold', 'Danfoss', 'speed', 'mph', 'achievement', 'technology', 'Power', 'boating', 'Octillion', 'Highlight', 'TLDR', 'world', 'Editron', 'contribute', 'water-speed', '*', 'era']",
         "1.0"
        ],
        [
         "4",
         "comment",
         "StockMarket",
         "The Trump administration is begging Xi Jinping to call Trump quickly.",
         "1",
         null,
         null,
         "He didn’t say thank you.",
         "0.0",
         "0.0",
         "0.0",
         "[]",
         "-1.0"
        ]
       ],
       "shape": {
        "columns": 12,
        "rows": 5
       }
      },
      "text/html": [
       "<div>\n",
       "<style scoped>\n",
       "    .dataframe tbody tr th:only-of-type {\n",
       "        vertical-align: middle;\n",
       "    }\n",
       "\n",
       "    .dataframe tbody tr th {\n",
       "        vertical-align: top;\n",
       "    }\n",
       "\n",
       "    .dataframe thead th {\n",
       "        text-align: right;\n",
       "    }\n",
       "</style>\n",
       "<table border=\"1\" class=\"dataframe\">\n",
       "  <thead>\n",
       "    <tr style=\"text-align: right;\">\n",
       "      <th></th>\n",
       "      <th>type</th>\n",
       "      <th>subreddit</th>\n",
       "      <th>title</th>\n",
       "      <th>upvotes</th>\n",
       "      <th>downvotes</th>\n",
       "      <th>upvote_ratio</th>\n",
       "      <th>text</th>\n",
       "      <th>subjectivity</th>\n",
       "      <th>polarity</th>\n",
       "      <th>sentiment</th>\n",
       "      <th>entities</th>\n",
       "      <th>label</th>\n",
       "    </tr>\n",
       "  </thead>\n",
       "  <tbody>\n",
       "    <tr>\n",
       "      <th>0</th>\n",
       "      <td>comment</td>\n",
       "      <td>wallstreetbets</td>\n",
       "      <td>Retardation is on the menu boys! WSB is so back</td>\n",
       "      <td>0</td>\n",
       "      <td>NaN</td>\n",
       "      <td>NaN</td>\n",
       "      <td>Calls on retards</td>\n",
       "      <td>1.000000</td>\n",
       "      <td>-0.900000</td>\n",
       "      <td>-1.0</td>\n",
       "      <td>[]</td>\n",
       "      <td>-1.0</td>\n",
       "    </tr>\n",
       "    <tr>\n",
       "      <th>1</th>\n",
       "      <td>comment</td>\n",
       "      <td>wallstreetbets</td>\n",
       "      <td>Retail giant TARGET has now declined for 10 co...</td>\n",
       "      <td>-15</td>\n",
       "      <td>NaN</td>\n",
       "      <td>NaN</td>\n",
       "      <td>Stunt as in like why did they even make a big ...</td>\n",
       "      <td>0.177778</td>\n",
       "      <td>0.083333</td>\n",
       "      <td>1.0</td>\n",
       "      <td>['Stunt', 'company', 'deal', 'place']</td>\n",
       "      <td>0.0</td>\n",
       "    </tr>\n",
       "    <tr>\n",
       "      <th>2</th>\n",
       "      <td>comment</td>\n",
       "      <td>StockMarket</td>\n",
       "      <td>How do you feel about a sitting president maki...</td>\n",
       "      <td>1</td>\n",
       "      <td>NaN</td>\n",
       "      <td>NaN</td>\n",
       "      <td>Seeing lots of red in the ticker.</td>\n",
       "      <td>0.000000</td>\n",
       "      <td>0.000000</td>\n",
       "      <td>0.0</td>\n",
       "      <td>['ticker']</td>\n",
       "      <td>0.0</td>\n",
       "    </tr>\n",
       "    <tr>\n",
       "      <th>3</th>\n",
       "      <td>post</td>\n",
       "      <td>stockstobuytoday</td>\n",
       "      <td>Who knows more? $VMAR</td>\n",
       "      <td>30</td>\n",
       "      <td>0.0</td>\n",
       "      <td>0.98</td>\n",
       "      <td>Vision Marine Technologies Inc. is rewriting t...</td>\n",
       "      <td>0.646970</td>\n",
       "      <td>0.216383</td>\n",
       "      <td>1.0</td>\n",
       "      <td>['watercraft', 'skill', 'power', ']', 'feat', ...</td>\n",
       "      <td>1.0</td>\n",
       "    </tr>\n",
       "    <tr>\n",
       "      <th>4</th>\n",
       "      <td>comment</td>\n",
       "      <td>StockMarket</td>\n",
       "      <td>The Trump administration is begging Xi Jinping...</td>\n",
       "      <td>1</td>\n",
       "      <td>NaN</td>\n",
       "      <td>NaN</td>\n",
       "      <td>He didn’t say thank you.</td>\n",
       "      <td>0.000000</td>\n",
       "      <td>0.000000</td>\n",
       "      <td>0.0</td>\n",
       "      <td>[]</td>\n",
       "      <td>-1.0</td>\n",
       "    </tr>\n",
       "  </tbody>\n",
       "</table>\n",
       "</div>"
      ],
      "text/plain": [
       "      type         subreddit  \\\n",
       "0  comment    wallstreetbets   \n",
       "1  comment    wallstreetbets   \n",
       "2  comment       StockMarket   \n",
       "3     post  stockstobuytoday   \n",
       "4  comment       StockMarket   \n",
       "\n",
       "                                               title  upvotes  downvotes  \\\n",
       "0    Retardation is on the menu boys! WSB is so back        0        NaN   \n",
       "1  Retail giant TARGET has now declined for 10 co...      -15        NaN   \n",
       "2  How do you feel about a sitting president maki...        1        NaN   \n",
       "3                              Who knows more? $VMAR       30        0.0   \n",
       "4  The Trump administration is begging Xi Jinping...        1        NaN   \n",
       "\n",
       "   upvote_ratio                                               text  \\\n",
       "0           NaN                                   Calls on retards   \n",
       "1           NaN  Stunt as in like why did they even make a big ...   \n",
       "2           NaN                  Seeing lots of red in the ticker.   \n",
       "3          0.98  Vision Marine Technologies Inc. is rewriting t...   \n",
       "4           NaN                           He didn’t say thank you.   \n",
       "\n",
       "   subjectivity  polarity  sentiment  \\\n",
       "0      1.000000 -0.900000       -1.0   \n",
       "1      0.177778  0.083333        1.0   \n",
       "2      0.000000  0.000000        0.0   \n",
       "3      0.646970  0.216383        1.0   \n",
       "4      0.000000  0.000000        0.0   \n",
       "\n",
       "                                            entities  label  \n",
       "0                                                 []   -1.0  \n",
       "1              ['Stunt', 'company', 'deal', 'place']    0.0  \n",
       "2                                         ['ticker']    0.0  \n",
       "3  ['watercraft', 'skill', 'power', ']', 'feat', ...    1.0  \n",
       "4                                                 []   -1.0  "
      ]
     },
     "execution_count": 3,
     "metadata": {},
     "output_type": "execute_result"
    }
   ],
   "source": [
    "data = df[['type', 'subreddit', 'title', 'upvotes', 'downvotes', 'upvote_ratio', 'text', 'subjectivity', 'polarity', 'sentiment', 'entities', 'label']]\n",
    "data.head()"
   ]
  },
  {
   "cell_type": "code",
   "execution_count": 4,
   "metadata": {},
   "outputs": [
    {
     "data": {
      "text/plain": [
       "(847, 12)"
      ]
     },
     "execution_count": 4,
     "metadata": {},
     "output_type": "execute_result"
    }
   ],
   "source": [
    "# check the shape\n",
    "# 847 rows and 12 columns\n",
    "data.shape"
   ]
  },
  {
   "cell_type": "markdown",
   "metadata": {},
   "source": [
    "## Data Cleaning"
   ]
  },
  {
   "cell_type": "markdown",
   "metadata": {},
   "source": [
    "Let's deal with the missing values first."
   ]
  },
  {
   "cell_type": "code",
   "execution_count": 5,
   "metadata": {},
   "outputs": [
    {
     "data": {
      "application/vnd.microsoft.datawrangler.viewer.v0+json": {
       "columns": [
        {
         "name": "index",
         "rawType": "object",
         "type": "string"
        },
        {
         "name": "0",
         "rawType": "int64",
         "type": "integer"
        }
       ],
       "ref": "35590f10-dbc5-41c0-961e-c262d3261de9",
       "rows": [
        [
         "type",
         "0"
        ],
        [
         "subreddit",
         "0"
        ],
        [
         "title",
         "0"
        ],
        [
         "upvotes",
         "0"
        ],
        [
         "downvotes",
         "783"
        ],
        [
         "upvote_ratio",
         "783"
        ],
        [
         "text",
         "0"
        ],
        [
         "subjectivity",
         "0"
        ],
        [
         "polarity",
         "0"
        ],
        [
         "sentiment",
         "0"
        ],
        [
         "entities",
         "0"
        ],
        [
         "label",
         "0"
        ]
       ],
       "shape": {
        "columns": 1,
        "rows": 12
       }
      },
      "text/plain": [
       "type              0\n",
       "subreddit         0\n",
       "title             0\n",
       "upvotes           0\n",
       "downvotes       783\n",
       "upvote_ratio    783\n",
       "text              0\n",
       "subjectivity      0\n",
       "polarity          0\n",
       "sentiment         0\n",
       "entities          0\n",
       "label             0\n",
       "dtype: int64"
      ]
     },
     "execution_count": 5,
     "metadata": {},
     "output_type": "execute_result"
    }
   ],
   "source": [
    "# check for missing values\n",
    "data.isnull().sum()"
   ]
  },
  {
   "cell_type": "markdown",
   "metadata": {},
   "source": [
    "Note that 783 / 847 = 0.924, imples that **92.4% of the data is missing** which is such a large percentage that it may indicate that the data is not suitable for analysis. For simply, I'll just drop them."
   ]
  },
  {
   "cell_type": "code",
   "execution_count": 6,
   "metadata": {},
   "outputs": [
    {
     "name": "stderr",
     "output_type": "stream",
     "text": [
      "C:\\Users\\user\\AppData\\Local\\Temp\\ipykernel_15948\\2042415421.py:2: SettingWithCopyWarning: \n",
      "A value is trying to be set on a copy of a slice from a DataFrame\n",
      "\n",
      "See the caveats in the documentation: https://pandas.pydata.org/pandas-docs/stable/user_guide/indexing.html#returning-a-view-versus-a-copy\n",
      "  data.drop(columns = ['downvotes', 'upvote_ratio'], axis=1, inplace=True)\n"
     ]
    },
    {
     "data": {
      "text/plain": [
       "(847, 10)"
      ]
     },
     "execution_count": 6,
     "metadata": {},
     "output_type": "execute_result"
    }
   ],
   "source": [
    "# drop columns \"downvotes\" and \"upvote_ratio\" \n",
    "data.drop(columns = ['downvotes', 'upvote_ratio'], axis=1, inplace=True)\n",
    "data.shape"
   ]
  },
  {
   "cell_type": "markdown",
   "metadata": {},
   "source": [
    "Now let's check if there are duplicate data."
   ]
  },
  {
   "cell_type": "code",
   "execution_count": 7,
   "metadata": {},
   "outputs": [
    {
     "name": "stdout",
     "output_type": "stream",
     "text": [
      "Original data: 0 rows are duplicated\n",
      "Processed data: 21 rows are duplicated\n"
     ]
    }
   ],
   "source": [
    "# check duplicate\n",
    "print(f\"Original data: {sum(df.duplicated())} rows are duplicated\")\n",
    "print(f\"Processed data: {sum(data.duplicated())} rows are duplicated\")"
   ]
  },
  {
   "cell_type": "markdown",
   "metadata": {},
   "source": [
    "We can see that there are 21 duplicated data in our processed dataset. However, I'll choose to preserve them since their `post_id`, which is dropped before, is unique for each post."
   ]
  },
  {
   "cell_type": "code",
   "execution_count": 17,
   "metadata": {},
   "outputs": [
    {
     "data": {
      "application/vnd.microsoft.datawrangler.viewer.v0+json": {
       "columns": [
        {
         "name": "index",
         "rawType": "int64",
         "type": "integer"
        },
        {
         "name": "type",
         "rawType": "object",
         "type": "string"
        },
        {
         "name": "subreddit",
         "rawType": "object",
         "type": "string"
        },
        {
         "name": "title",
         "rawType": "object",
         "type": "string"
        },
        {
         "name": "upvotes",
         "rawType": "int64",
         "type": "integer"
        },
        {
         "name": "text",
         "rawType": "object",
         "type": "string"
        },
        {
         "name": "subjectivity",
         "rawType": "float64",
         "type": "float"
        },
        {
         "name": "polarity",
         "rawType": "float64",
         "type": "float"
        },
        {
         "name": "sentiment",
         "rawType": "float64",
         "type": "float"
        },
        {
         "name": "entities",
         "rawType": "object",
         "type": "string"
        },
        {
         "name": "label",
         "rawType": "float64",
         "type": "float"
        }
       ],
       "ref": "0d40e3a8-b934-463f-a723-5bfb36f896df",
       "rows": [
        [
         "0",
         "comment",
         "wallstreetbets",
         "Retardation is on the menu boys! WSB is so back",
         "0",
         "Calls on retards",
         "1.0",
         "-0.9",
         "-1.0",
         "[]",
         "-1.0"
        ],
        [
         "1",
         "comment",
         "wallstreetbets",
         "Retail giant TARGET has now declined for 10 consecutive weeks, its longest losing streak in history",
         "-15",
         "Stunt as in like why did they even make a big deal about starting it in the first place? No company should ever talk about politics ever.",
         "0.1777777777777777",
         "0.0833333333333333",
         "1.0",
         "['Stunt', 'company', 'deal', 'place']",
         "0.0"
        ],
        [
         "2",
         "comment",
         "StockMarket",
         "How do you feel about a sitting president making $415M in one day after pumping his own stock with social media and a policy decision?",
         "1",
         "Seeing lots of red in the ticker.",
         "0.0",
         "0.0",
         "0.0",
         "['ticker']",
         "0.0"
        ],
        [
         "3",
         "post",
         "stockstobuytoday",
         "Who knows more? $VMAR",
         "30",
         "Vision Marine Technologies Inc. is rewriting the watercraft rulebook. Their collaboration with Shaun Torrente has achieved the unthinkable – a blazing 116 mph on water! This isn't just about speed; it's about propelling electric boating into a new era. Their cutting-edge technology, combined with Torrente's skill, is making waves that'll ripple for generations.\r\n\r\n**Highlight Main Points**\r\n\r\n* Vision Marine Technologies Inc. achieves a record-breaking 116 mph speed on water with Shaun Torrente.\r\n* The feat highlights the power of electric boating and pushes the limits of innovation.\r\n* Partners like Octillion Power Systems and Danfoss Editron contribute to this groundbreaking achievement.\r\n\r\n**TLDR**\r\n\r\nHold onto your seats – Vision Marine Technologies Inc. and Shaun Torrente have shattered the water-speed record at an astonishing 116 mph!  This isn't just about speed; it's about pioneering electric boating and innovation. The collaboration of technology, skill, and passion is creating ripples that'll be felt for years to come in the world of watercraft.\r\n\r\n[]()",
         "0.646969696969697",
         "0.2163825757575757",
         "1.0",
         "['watercraft', 'skill', 'power', ']', 'feat', 'Marine', 'Main', 'Systems', 'Vision Marine Technologies Inc.', 'Vision', 'water', 'record', 'Torrente', 'passion', 'Inc.', 'Shaun', 'Octillion Power Systems', 'collaboration', 'innovation', 'rulebook', 'Points', '–', 'Hold', 'Danfoss', 'speed', 'mph', 'achievement', 'technology', 'Power', 'boating', 'Octillion', 'Highlight', 'TLDR', 'world', 'Editron', 'contribute', 'water-speed', '*', 'era']",
         "1.0"
        ],
        [
         "4",
         "comment",
         "StockMarket",
         "The Trump administration is begging Xi Jinping to call Trump quickly.",
         "1",
         "He didn’t say thank you.",
         "0.0",
         "0.0",
         "0.0",
         "[]",
         "-1.0"
        ]
       ],
       "shape": {
        "columns": 10,
        "rows": 5
       }
      },
      "text/html": [
       "<div>\n",
       "<style scoped>\n",
       "    .dataframe tbody tr th:only-of-type {\n",
       "        vertical-align: middle;\n",
       "    }\n",
       "\n",
       "    .dataframe tbody tr th {\n",
       "        vertical-align: top;\n",
       "    }\n",
       "\n",
       "    .dataframe thead th {\n",
       "        text-align: right;\n",
       "    }\n",
       "</style>\n",
       "<table border=\"1\" class=\"dataframe\">\n",
       "  <thead>\n",
       "    <tr style=\"text-align: right;\">\n",
       "      <th></th>\n",
       "      <th>type</th>\n",
       "      <th>subreddit</th>\n",
       "      <th>title</th>\n",
       "      <th>upvotes</th>\n",
       "      <th>text</th>\n",
       "      <th>subjectivity</th>\n",
       "      <th>polarity</th>\n",
       "      <th>sentiment</th>\n",
       "      <th>entities</th>\n",
       "      <th>label</th>\n",
       "    </tr>\n",
       "  </thead>\n",
       "  <tbody>\n",
       "    <tr>\n",
       "      <th>0</th>\n",
       "      <td>comment</td>\n",
       "      <td>wallstreetbets</td>\n",
       "      <td>Retardation is on the menu boys! WSB is so back</td>\n",
       "      <td>0</td>\n",
       "      <td>Calls on retards</td>\n",
       "      <td>1.000000</td>\n",
       "      <td>-0.900000</td>\n",
       "      <td>-1.0</td>\n",
       "      <td>[]</td>\n",
       "      <td>-1.0</td>\n",
       "    </tr>\n",
       "    <tr>\n",
       "      <th>1</th>\n",
       "      <td>comment</td>\n",
       "      <td>wallstreetbets</td>\n",
       "      <td>Retail giant TARGET has now declined for 10 co...</td>\n",
       "      <td>-15</td>\n",
       "      <td>Stunt as in like why did they even make a big ...</td>\n",
       "      <td>0.177778</td>\n",
       "      <td>0.083333</td>\n",
       "      <td>1.0</td>\n",
       "      <td>['Stunt', 'company', 'deal', 'place']</td>\n",
       "      <td>0.0</td>\n",
       "    </tr>\n",
       "    <tr>\n",
       "      <th>2</th>\n",
       "      <td>comment</td>\n",
       "      <td>StockMarket</td>\n",
       "      <td>How do you feel about a sitting president maki...</td>\n",
       "      <td>1</td>\n",
       "      <td>Seeing lots of red in the ticker.</td>\n",
       "      <td>0.000000</td>\n",
       "      <td>0.000000</td>\n",
       "      <td>0.0</td>\n",
       "      <td>['ticker']</td>\n",
       "      <td>0.0</td>\n",
       "    </tr>\n",
       "    <tr>\n",
       "      <th>3</th>\n",
       "      <td>post</td>\n",
       "      <td>stockstobuytoday</td>\n",
       "      <td>Who knows more? $VMAR</td>\n",
       "      <td>30</td>\n",
       "      <td>Vision Marine Technologies Inc. is rewriting t...</td>\n",
       "      <td>0.646970</td>\n",
       "      <td>0.216383</td>\n",
       "      <td>1.0</td>\n",
       "      <td>['watercraft', 'skill', 'power', ']', 'feat', ...</td>\n",
       "      <td>1.0</td>\n",
       "    </tr>\n",
       "    <tr>\n",
       "      <th>4</th>\n",
       "      <td>comment</td>\n",
       "      <td>StockMarket</td>\n",
       "      <td>The Trump administration is begging Xi Jinping...</td>\n",
       "      <td>1</td>\n",
       "      <td>He didn’t say thank you.</td>\n",
       "      <td>0.000000</td>\n",
       "      <td>0.000000</td>\n",
       "      <td>0.0</td>\n",
       "      <td>[]</td>\n",
       "      <td>-1.0</td>\n",
       "    </tr>\n",
       "  </tbody>\n",
       "</table>\n",
       "</div>"
      ],
      "text/plain": [
       "      type         subreddit  \\\n",
       "0  comment    wallstreetbets   \n",
       "1  comment    wallstreetbets   \n",
       "2  comment       StockMarket   \n",
       "3     post  stockstobuytoday   \n",
       "4  comment       StockMarket   \n",
       "\n",
       "                                               title  upvotes  \\\n",
       "0    Retardation is on the menu boys! WSB is so back        0   \n",
       "1  Retail giant TARGET has now declined for 10 co...      -15   \n",
       "2  How do you feel about a sitting president maki...        1   \n",
       "3                              Who knows more? $VMAR       30   \n",
       "4  The Trump administration is begging Xi Jinping...        1   \n",
       "\n",
       "                                                text  subjectivity  polarity  \\\n",
       "0                                   Calls on retards      1.000000 -0.900000   \n",
       "1  Stunt as in like why did they even make a big ...      0.177778  0.083333   \n",
       "2                  Seeing lots of red in the ticker.      0.000000  0.000000   \n",
       "3  Vision Marine Technologies Inc. is rewriting t...      0.646970  0.216383   \n",
       "4                           He didn’t say thank you.      0.000000  0.000000   \n",
       "\n",
       "   sentiment                                           entities  label  \n",
       "0       -1.0                                                 []   -1.0  \n",
       "1        1.0              ['Stunt', 'company', 'deal', 'place']    0.0  \n",
       "2        0.0                                         ['ticker']    0.0  \n",
       "3        1.0  ['watercraft', 'skill', 'power', ']', 'feat', ...    1.0  \n",
       "4        0.0                                                 []   -1.0  "
      ]
     },
     "execution_count": 17,
     "metadata": {},
     "output_type": "execute_result"
    }
   ],
   "source": [
    "data.head()"
   ]
  },
  {
   "cell_type": "markdown",
   "metadata": {},
   "source": [
    "## EDA on csv"
   ]
  },
  {
   "cell_type": "markdown",
   "metadata": {},
   "source": [
    "The data has only 847 rows, practically, it's too small to perform sampling. So I'll skip this part."
   ]
  },
  {
   "cell_type": "markdown",
   "metadata": {},
   "source": [
    "First, let see the number of each category. We will treat `label` as the target variable."
   ]
  },
  {
   "cell_type": "code",
   "execution_count": 18,
   "metadata": {},
   "outputs": [
    {
     "data": {
      "text/plain": [
       "Index(['type', 'subreddit', 'title', 'upvotes', 'text', 'subjectivity',\n",
       "       'polarity', 'sentiment', 'entities', 'label'],\n",
       "      dtype='object')"
      ]
     },
     "execution_count": 18,
     "metadata": {},
     "output_type": "execute_result"
    }
   ],
   "source": [
    "data.columns"
   ]
  },
  {
   "cell_type": "code",
   "execution_count": 10,
   "metadata": {},
   "outputs": [
    {
     "data": {
      "text/plain": [
       "(0.0, 500.0)"
      ]
     },
     "execution_count": 10,
     "metadata": {},
     "output_type": "execute_result"
    },
    {
     "data": {
      "image/png": "[encoded data removed]",
      "text/plain": [
       "<Figure size 640x480 with 1 Axes>"
      ]
     },
     "metadata": {},
     "output_type": "display_data"
    }
   ],
   "source": [
    "# count the number of each label in the dataset\n",
    "ax = sns.countplot(data=data, x='label')\n",
    "for container in ax.containers:\n",
    "    ax.bar_label(container)\n",
    "\n",
    "ax.set_ylim(0, 500)\n"
   ]
  },
  {
   "cell_type": "markdown",
   "metadata": {},
   "source": [
    "I'm quite curious about the relationship about `sentiment` vs `label`. Let's visualize it.\n",
    "\n",
    "**Insight**: \n",
    "- The dataset is heavily skewed towards the 0.0 label, which is predominantly marked with a neutral sentiment (0.0).\n",
    "\n",
    "- The −1.0 label shows the most balanced sentiment distribution, with negative, neutral, and positive counts being relatively close.\n",
    "\n",
    "- The 1.0 label has the lowest sample count overall, but positive sentiment (1.0) is clearly the dominant sentiment within that specific group."
   ]
  },
  {
   "cell_type": "code",
   "execution_count": null,
   "metadata": {},
   "outputs": [
    {
     "data": {
      "text/plain": [
       "<Axes: xlabel='label', ylabel='count'>"
      ]
     },
     "execution_count": 16,
     "metadata": {},
     "output_type": "execute_result"
    },
    {
     "data": {
      "image/png": "[encoded data removed]",
      "text/plain": [
       "<Figure size 640x480 with 1 Axes>"
      ]
     },
     "metadata": {},
     "output_type": "display_data"
    }
   ],
   "source": [
    "sentiment_counts = data.groupby(['label', 'sentiment']).size().reset_index(name='count')\n",
    "label_totals = data.groupby('label').size().reset_index(name='label_total')\n",
    "\n",
    "\n",
    "sns.countplot(data=data, x='label', hue='sentiment', palette='bright')"
   ]
  },
  {
   "cell_type": "markdown",
   "metadata": {},
   "source": [
    "**Curiousity**: Which board (subreddit) has the most extreme emotions? \n",
    "\n",
    "**Insights**:\n",
    "- **Overall Neutrality**: The median polarity for all 4 subreddits is very close to 0.0 (neutral). This suggests that most posts across these communities are factual or moderate in emotional tone.\n",
    "\n",
    "- **Lowest Volatility in Advice**: *stockstobuytoday* has the narrowest box, meaning its sentiment is the most concentrated and stable. Posts here are generally focused and slightly positive.\n",
    "\n",
    "- **Highest Emotional Range**: *wallstreetbets* shows the widest box, indicating the greatest variation in sentiment. This confirms its reputation for posts that swing more often between strong optimism and pessimism."
   ]
  },
  {
   "cell_type": "code",
   "execution_count": 20,
   "metadata": {},
   "outputs": [
    {
     "data": {
      "image/png": "[encoded data removed]",
      "text/plain": [
       "<Figure size 640x480 with 1 Axes>"
      ]
     },
     "metadata": {},
     "output_type": "display_data"
    }
   ],
   "source": [
    "sns.boxplot(data = data, x = 'subreddit', y = 'polarity');"
   ]
  },
  {
   "cell_type": "markdown",
   "metadata": {},
   "source": [
    "**Curiousity**: Will the negative or positive sentiment of the posts or comments get more upvotes?\n",
    "\n",
    "**Insights**:\n",
    "- **Highest Virality in Label 1.0**: The single most popular post (highest upvotes, near 4,000) belongs to Label 1.0. This suggests that posts in this category have the highest potential to go super-viral.\n",
    "\n",
    "- **Steady Popularity in Label 0.0**: Posts with Label 0.0 consistently reach mid-to-high upvote counts (up to about 1,100), making it a stable source of moderately popular content.\n",
    "\n",
    "- **Limited Reach for Label -1.0**: Content categorized as Label −1.0 rarely breaks past ≈500 upvotes, indicating that negative or \"−1.0\" content generally struggles to achieve widespread popularity."
   ]
  },
  {
   "cell_type": "code",
   "execution_count": 23,
   "metadata": {},
   "outputs": [
    {
     "data": {
      "text/plain": [
       "<Axes: xlabel='label', ylabel='upvotes'>"
      ]
     },
     "execution_count": 23,
     "metadata": {},
     "output_type": "execute_result"
    },
    {
     "data": {
      "image/png": "[encoded data removed]",
      "text/plain": [
       "<Figure size 640x480 with 1 Axes>"
      ]
     },
     "metadata": {},
     "output_type": "display_data"
    }
   ],
   "source": [
    "sns.scatterplot(data = data, x = 'label', y = 'upvotes')"
   ]
  },
  {
   "cell_type": "markdown",
   "metadata": {},
   "source": [
    "## Processing Text"
   ]
  },
  {
   "cell_type": "markdown",
   "metadata": {},
   "source": [
    "For simply, let's generate a new data frame with only `text`."
   ]
  },
  {
   "cell_type": "code",
   "execution_count": 26,
   "metadata": {},
   "outputs": [
    {
     "data": {
      "application/vnd.microsoft.datawrangler.viewer.v0+json": {
       "columns": [
        {
         "name": "index",
         "rawType": "int64",
         "type": "integer"
        },
        {
         "name": "text",
         "rawType": "object",
         "type": "string"
        }
       ],
       "ref": "c0be0608-38d0-4cbb-8ae5-f44dda4c713c",
       "rows": [
        [
         "0",
         "Calls on retards"
        ],
        [
         "1",
         "Stunt as in like why did they even make a big deal about starting it in the first place? No company should ever talk about politics ever."
        ],
        [
         "2",
         "Seeing lots of red in the ticker."
        ],
        [
         "3",
         "Vision Marine Technologies Inc. is rewriting the watercraft rulebook. Their collaboration with Shaun Torrente has achieved the unthinkable – a blazing 116 mph on water! This isn't just about speed; it's about propelling electric boating into a new era. Their cutting-edge technology, combined with Torrente's skill, is making waves that'll ripple for generations.\r\n\r\n**Highlight Main Points**\r\n\r\n* Vision Marine Technologies Inc. achieves a record-breaking 116 mph speed on water with Shaun Torrente.\r\n* The feat highlights the power of electric boating and pushes the limits of innovation.\r\n* Partners like Octillion Power Systems and Danfoss Editron contribute to this groundbreaking achievement.\r\n\r\n**TLDR**\r\n\r\nHold onto your seats – Vision Marine Technologies Inc. and Shaun Torrente have shattered the water-speed record at an astonishing 116 mph!  This isn't just about speed; it's about pioneering electric boating and innovation. The collaboration of technology, skill, and passion is creating ripples that'll be felt for years to come in the world of watercraft.\r\n\r\n[]()"
        ],
        [
         "4",
         "He didn’t say thank you."
        ],
        [
         "5",
         "Hoping to ejaculate in wet warm puss tonight, wish me luck"
        ],
        [
         "6",
         "Trump will respond to china increasing their tariffs. Trump is looking to fire Jerome Powell. Earnings reporting is starting. I personally think the next few weeks are going to be brutal.... if all companies adjust downwards and JPow is fired, i can see it going down A LOT and very quickly even"
        ],
        [
         "7",
         "Confirmed not a trap. Its been like this for probably 2 months, we have just let it slowly spread by word of mouth"
        ],
        [
         "8",
         "Am I the only one seeing the cup & handle breakout here? 52 week high? Third Green Day? The pivot was on Thursday. Perfectly held the base trend line to a new high. Follow the technicals folks."
        ],
        [
         "9",
         "HLGN is $10. Hurry and catch it now before it shoots to the moon!"
        ],
        [
         "10",
         "It's a copy/paste from a Bloomberg terminal."
        ],
        [
         "11",
         "this sub has ruined emails for me, whenever I write “Best regards” I think of WSB"
        ],
        [
         "12",
         "Honestly let the economy burn, maybe people will learn"
        ],
        [
         "13",
         "\r\nI’ve been doing pretty good with this, but it’s heavy on fees. Looking for a similar risk return profile but any ideas on how to do it with less fees? \r\nI don’t want to sell calls by myself.\r\n\r\nQdte 35%\r\nUpro 25%\r\nTltw 15%\r\nIspy 10%\r\nBrkb 10%\r\nMsci/Nvda 5%"
        ],
        [
         "14",
         "USA begging China to call them"
        ],
        [
         "15",
         "Disgusting tactics"
        ],
        [
         "16",
         "Jesus Christ"
        ],
        [
         "17",
         "Exactly this. Trump will blink first because, in the end, he will have to answer to his people for high prices, empty shelves, and a useless dollar. People will protest and riot, there will be growing calls for his removal from office, things will halt to a standstill and there will be general chaos.\r\n\r\nPeople try that in China, and it will be Tiananmen Square 2.0. There will be no revolt, there will be no dissent. People will do as the CCP says or suffer severe punishment.\r\n\r\nXi holds the cards in a long term trade war. Trump does not. He can’t win this even if his mental illness tells him otherwise."
        ],
        [
         "18",
         "Trump and dump"
        ],
        [
         "19",
         "I think we are past the numbers. Just assume folks world wide are now looking for another safe place to store their money.\r\n\r\nWe used to be the place. That is over.\r\n\r\nHell I am in the US and I am looking for a safer place to store my money.\r\n\r\nWe are in uncharted waters here and we have an economy that was already shaky to begin with.\r\n\r\nFar too many Americans are woefully unaware of how big the world is or how much we actually depend on them. \r\n\r\nLots of hard lessons to be learned going forward.\r\n\r\nTo sell bonds and treasuries we need people to believe their money is safe if they buy them. That idea is rapidly exiting stage right.\r\n\r\nI could be wrong but I think those rates are  screaming at us that we are going down rapidly as a trusted partner."
        ],
        [
         "20",
         "Nooo dont go down its smug bull day"
        ],
        [
         "21",
         "GEO WM"
        ],
        [
         "22",
         "Google \"target dei\".\r\n\r\nI did it for you.\r\n\r\n"
        ],
        [
         "23",
         "I feel like these HFs took the word \"retard\" thrown around at WSB too literally. Now they are trying to pack shit in Tiffany bags and sell it to us. But we ain't buying it!"
        ],
        [
         "24",
         "Shop like a billionaire."
        ],
        [
         "25",
         "You see, Target, pissing off a good chunk of your loyal customer base wasn't a good idea."
        ],
        [
         "26",
         "China will never lose a trade war. Delusional old guy from Queens never understood that."
        ],
        [
         "27",
         "Any thoughts on RVPH?"
        ],
        [
         "28",
         "My first wife was tarded, she's a pilot now."
        ],
        [
         "29",
         "Is sundial growers going to rise up?"
        ],
        [
         "30",
         "> Still seems like an awful investment\r\n\r\nThat sentiment, above everything else happening, is what has me most terrified.\r\n\r\nFaith in the US economy is crumbling."
        ],
        [
         "31",
         "$EVGO \r\n\r\n*Record Revenue increasing 5 straight Quarters\r\n\r\n*30% SI, poised for a massive squeeze on a small cap. There is no bear thesis anymore\r\n\r\n*Major partnership with key OEM’s (now Toyota in addition to GM, Honda, Ford, Rivian 33 all together)-\r\n\r\n*There was a NYT article where a VP of EVGO mentioned that red states are actually some of their biggest partners as they see it as inevitable: \r\n\r\n“Sara Rafalson, a vice president at EVgo, a Los Angeles-based charging company that has built chargers in over 35 states, said that the company was seeing its biggest demand growth in Republican-led states like Texas and Florida.”\r\n\r\n*EV winter is ending with GM EV Equinox launch June 17th + Costco Discount + EV Blazer Cost Reduction + Stellantis $25K Jeep + many other cheap EV’s 2nd half of this year under, Hertz firesale of EV’s under $25K + $4500 to $7500 incentive\r\n\r\n*CEO Insider buy of 125,000 shares \r\n\r\n*Lower interest rates in September combined with many new cheap electric vehicle models like GM Equinox Compact\r\n\r\n*Low Debt\r\n\r\n*Rolling out North American Charging Standard NACS to entire country so ALL vehicles can recharge at Charging stations\r\n\r\n*1,000,000 customers doubling annually (at least, likely more)\r\n\r\n*Artificial Intelligence to place charging stations for maximum Charging Revenue\r\n\r\n*Renew program to upgrade older stations\r\n\r\n*100% USA parts compliant so not affected by China Tariffs and will take business from others\r\n\r\n*The US must upgrade its EV infrastructure if they want to compete globally. EVGO is the only fast chargers. BLNK and CHPT only give you one time sales revenue whereas EVGO gives you multiple.\r\n\r\n*TESLA backing off of electric vehicle Charging leaves even more room to grow. EVGO is next best at L3 Chargers\r\n\r\n*EBIDTA forecast to be positive in early 2025 if not sooner\r\n\r\n*Will NOT have to do a secondary offering - line of credit in case, high growth and cash reserves, may not even need it.\r\n\r\n*Rates are getting cut soon leading to more growth \r\n\r\n*They expect a DOE loan this year \r\n\r\n*trading sideways right now, perfect entry before the next leg up. Last spike up took 1 month and 1 week of sideways trading. Based off the same timeline, we are a week off. \r\n\r\n*They are adding high end talent, big names from Tesla. Recently hired a CPO, Chief Peoples Officer implying they are expecting to expand rapidly thus need someone with strong connections in the space."
        ],
        [
         "32",
         "Sorry; I’m dumb but is this not just a USD to X conversion chart?"
        ],
        [
         "33",
         "Pls respond"
        ],
        [
         "34",
         "So they went from saying redditors are bad for manipulating the market o praising silver??"
        ],
        [
         "35",
         "Goshdang about time. It was fine to say when I was a kid, fine in college, but then I went to war and when I come back the whole world got suuuuuper weird. 2012 was a pretty important year to miss or something?"
        ],
        [
         "36",
         "Xi is calm and sure-footed in his response to Trump, while Trump is irrational and makes quick decisions without considering the consequence. Also, he's stupid."
        ],
        [
         "37",
         "Cash"
        ],
        [
         "38",
         "Hey our net worth match now, we can be friends!"
        ],
        [
         "39",
         "Other countries probably will go through a recession, but there is no reason at all that they would suffer hyperinflation.  Remember that they can mitigate inflation by trading with any other country.  There is very little that only the US makes.  Only the US dollar is wobbly right now."
        ],
        [
         "40",
         "These China AI factory memes are pretty good. I gotta admit they boomed us this time."
        ],
        [
         "41",
         "And plug"
        ],
        [
         "42",
         "So they went from saying redditors are bad for manipulating the market o praising silver??"
        ],
        [
         "43",
         "what if time machine parts come from china"
        ],
        [
         "44",
         "Completely unrelated, but for like 20 years of my life, I thought the saying was \"Button down the hatches\".  I was like 27 or something when somebody corrected me and now every time I see it, I always think \"Man, that was really a common knowledge thing that I just didn't know\"."
        ],
        [
         "45",
         "100% fact! Truth hurts."
        ],
        [
         "46",
         "If the \"rule of law\" wasn't a total joke, I might feel badly about it-- but it seems like nobody who matters does, so why should I?"
        ],
        [
         "47",
         "Weekend thread is where the real ones at ![img](emote|t5_2th52|8883)"
        ],
        [
         "48",
         "\r\n\r\n  [MarketWatch: Stock Market News - Financial News - Earmings Stonkvest (stockbuyvest.com)]() \r\n\r\n\\#catalyst #event #earnings"
        ],
        [
         "49",
         "And you are? \r\n\r\nMarket. Mr. Market. "
        ]
       ],
       "shape": {
        "columns": 1,
        "rows": 847
       }
      },
      "text/html": [
       "<div>\n",
       "<style scoped>\n",
       "    .dataframe tbody tr th:only-of-type {\n",
       "        vertical-align: middle;\n",
       "    }\n",
       "\n",
       "    .dataframe tbody tr th {\n",
       "        vertical-align: top;\n",
       "    }\n",
       "\n",
       "    .dataframe thead th {\n",
       "        text-align: right;\n",
       "    }\n",
       "</style>\n",
       "<table border=\"1\" class=\"dataframe\">\n",
       "  <thead>\n",
       "    <tr style=\"text-align: right;\">\n",
       "      <th></th>\n",
       "      <th>text</th>\n",
       "    </tr>\n",
       "  </thead>\n",
       "  <tbody>\n",
       "    <tr>\n",
       "      <th>0</th>\n",
       "      <td>Calls on retards</td>\n",
       "    </tr>\n",
       "    <tr>\n",
       "      <th>1</th>\n",
       "      <td>Stunt as in like why did they even make a big ...</td>\n",
       "    </tr>\n",
       "    <tr>\n",
       "      <th>2</th>\n",
       "      <td>Seeing lots of red in the ticker.</td>\n",
       "    </tr>\n",
       "    <tr>\n",
       "      <th>3</th>\n",
       "      <td>Vision Marine Technologies Inc. is rewriting t...</td>\n",
       "    </tr>\n",
       "    <tr>\n",
       "      <th>4</th>\n",
       "      <td>He didn’t say thank you.</td>\n",
       "    </tr>\n",
       "    <tr>\n",
       "      <th>...</th>\n",
       "      <td>...</td>\n",
       "    </tr>\n",
       "    <tr>\n",
       "      <th>842</th>\n",
       "      <td>Invest now it is going to shoot up tomorrow</td>\n",
       "    </tr>\n",
       "    <tr>\n",
       "      <th>843</th>\n",
       "      <td>Where can I read this?</td>\n",
       "    </tr>\n",
       "    <tr>\n",
       "      <th>844</th>\n",
       "      <td>Upgrades, Downgrades\\r\\n\\r\\n [Stock Analyst Re...</td>\n",
       "    </tr>\n",
       "    <tr>\n",
       "      <th>845</th>\n",
       "      <td>i sold my puts so i expect cheeto to declare w...</td>\n",
       "    </tr>\n",
       "    <tr>\n",
       "      <th>846</th>\n",
       "      <td>![img](emote|t5_2th52|31224)</td>\n",
       "    </tr>\n",
       "  </tbody>\n",
       "</table>\n",
       "<p>847 rows × 1 columns</p>\n",
       "</div>"
      ],
      "text/plain": [
       "                                                  text\n",
       "0                                     Calls on retards\n",
       "1    Stunt as in like why did they even make a big ...\n",
       "2                    Seeing lots of red in the ticker.\n",
       "3    Vision Marine Technologies Inc. is rewriting t...\n",
       "4                             He didn’t say thank you.\n",
       "..                                                 ...\n",
       "842        Invest now it is going to shoot up tomorrow\n",
       "843                             Where can I read this?\n",
       "844  Upgrades, Downgrades\\r\\n\\r\\n [Stock Analyst Re...\n",
       "845  i sold my puts so i expect cheeto to declare w...\n",
       "846                       ![img](emote|t5_2th52|31224)\n",
       "\n",
       "[847 rows x 1 columns]"
      ]
     },
     "execution_count": 26,
     "metadata": {},
     "output_type": "execute_result"
    }
   ],
   "source": [
    "text_df = data[['text']]\n",
    "text_df"
   ]
  },
  {
   "cell_type": "markdown",
   "metadata": {},
   "source": [
    "Let's seperate the text into unigrams."
   ]
  },
  {
   "cell_type": "code",
   "execution_count": 28,
   "metadata": {},
   "outputs": [
    {
     "name": "stderr",
     "output_type": "stream",
     "text": [
      "C:\\Users\\user\\AppData\\Local\\Temp\\ipykernel_15948\\757785677.py:1: SettingWithCopyWarning: \n",
      "A value is trying to be set on a copy of a slice from a DataFrame.\n",
      "Try using .loc[row_indexer,col_indexer] = value instead\n",
      "\n",
      "See the caveats in the documentation: https://pandas.pydata.org/pandas-docs/stable/user_guide/indexing.html#returning-a-view-versus-a-copy\n",
      "  text_df['unigrams'] = text_df['text'].apply(lambda x: list(nltk.word_tokenize(x)))\n"
     ]
    },
    {
     "data": {
      "application/vnd.microsoft.datawrangler.viewer.v0+json": {
       "columns": [
        {
         "name": "index",
         "rawType": "int64",
         "type": "integer"
        },
        {
         "name": "text",
         "rawType": "object",
         "type": "string"
        },
        {
         "name": "unigrams",
         "rawType": "object",
         "type": "unknown"
        }
       ],
       "ref": "beb2e777-48aa-4042-9f56-e6ce77f96564",
       "rows": [
        [
         "0",
         "Calls on retards",
         "['Calls', 'on', 'retards']"
        ],
        [
         "1",
         "Stunt as in like why did they even make a big deal about starting it in the first place? No company should ever talk about politics ever.",
         "['Stunt', 'as', 'in', 'like', 'why', 'did', 'they', 'even', 'make', 'a', 'big', 'deal', 'about', 'starting', 'it', 'in', 'the', 'first', 'place', '?', 'No', 'company', 'should', 'ever', 'talk', 'about', 'politics', 'ever', '.']"
        ],
        [
         "2",
         "Seeing lots of red in the ticker.",
         "['Seeing', 'lots', 'of', 'red', 'in', 'the', 'ticker', '.']"
        ],
        [
         "3",
         "Vision Marine Technologies Inc. is rewriting the watercraft rulebook. Their collaboration with Shaun Torrente has achieved the unthinkable – a blazing 116 mph on water! This isn't just about speed; it's about propelling electric boating into a new era. Their cutting-edge technology, combined with Torrente's skill, is making waves that'll ripple for generations.\r\n\r\n**Highlight Main Points**\r\n\r\n* Vision Marine Technologies Inc. achieves a record-breaking 116 mph speed on water with Shaun Torrente.\r\n* The feat highlights the power of electric boating and pushes the limits of innovation.\r\n* Partners like Octillion Power Systems and Danfoss Editron contribute to this groundbreaking achievement.\r\n\r\n**TLDR**\r\n\r\nHold onto your seats – Vision Marine Technologies Inc. and Shaun Torrente have shattered the water-speed record at an astonishing 116 mph!  This isn't just about speed; it's about pioneering electric boating and innovation. The collaboration of technology, skill, and passion is creating ripples that'll be felt for years to come in the world of watercraft.\r\n\r\n[]()",
         "['Vision', 'Marine', 'Technologies', 'Inc.', 'is', 'rewriting', 'the', 'watercraft', 'rulebook', '.', 'Their', 'collaboration', 'with', 'Shaun', 'Torrente', 'has', 'achieved', 'the', 'unthinkable', '–', 'a', 'blazing', '116', 'mph', 'on', 'water', '!', 'This', 'is', \"n't\", 'just', 'about', 'speed', ';', 'it', \"'s\", 'about', 'propelling', 'electric', 'boating', 'into', 'a', 'new', 'era', '.', 'Their', 'cutting-edge', 'technology', ',', 'combined', 'with', 'Torrente', \"'s\", 'skill', ',', 'is', 'making', 'waves', 'that', \"'ll\", 'ripple', 'for', 'generations', '.', '*', '*', 'Highlight', 'Main', 'Points', '*', '*', '*', 'Vision', 'Marine', 'Technologies', 'Inc.', 'achieves', 'a', 'record-breaking', '116', 'mph', 'speed', 'on', 'water', 'with', 'Shaun', 'Torrente', '.', '*', 'The', 'feat', 'highlights', 'the', 'power', 'of', 'electric', 'boating', 'and', 'pushes', 'the', 'limits', 'of', 'innovation', '.', '*', 'Partners', 'like', 'Octillion', 'Power', 'Systems', 'and', 'Danfoss', 'Editron', 'contribute', 'to', 'this', 'groundbreaking', 'achievement', '.', '*', '*', 'TLDR', '*', '*', 'Hold', 'onto', 'your', 'seats', '–', 'Vision', 'Marine', 'Technologies', 'Inc.', 'and', 'Shaun', 'Torrente', 'have', 'shattered', 'the', 'water-speed', 'record', 'at', 'an', 'astonishing', '116', 'mph', '!', 'This', 'is', \"n't\", 'just', 'about', 'speed', ';', 'it', \"'s\", 'about', 'pioneering', 'electric', 'boating', 'and', 'innovation', '.', 'The', 'collaboration', 'of', 'technology', ',', 'skill', ',', 'and', 'passion', 'is', 'creating', 'ripples', 'that', \"'ll\", 'be', 'felt', 'for', 'years', 'to', 'come', 'in', 'the', 'world', 'of', 'watercraft', '.', '[', ']', '(', ')']"
        ],
        [
         "4",
         "He didn’t say thank you.",
         "['He', 'didn', '’', 't', 'say', 'thank', 'you', '.']"
        ],
        [
         "5",
         "Hoping to ejaculate in wet warm puss tonight, wish me luck",
         "['Hoping', 'to', 'ejaculate', 'in', 'wet', 'warm', 'puss', 'tonight', ',', 'wish', 'me', 'luck']"
        ],
        [
         "6",
         "Trump will respond to china increasing their tariffs. Trump is looking to fire Jerome Powell. Earnings reporting is starting. I personally think the next few weeks are going to be brutal.... if all companies adjust downwards and JPow is fired, i can see it going down A LOT and very quickly even",
         "['Trump', 'will', 'respond', 'to', 'china', 'increasing', 'their', 'tariffs', '.', 'Trump', 'is', 'looking', 'to', 'fire', 'Jerome', 'Powell', '.', 'Earnings', 'reporting', 'is', 'starting', '.', 'I', 'personally', 'think', 'the', 'next', 'few', 'weeks', 'are', 'going', 'to', 'be', 'brutal', '....', 'if', 'all', 'companies', 'adjust', 'downwards', 'and', 'JPow', 'is', 'fired', ',', 'i', 'can', 'see', 'it', 'going', 'down', 'A', 'LOT', 'and', 'very', 'quickly', 'even']"
        ],
        [
         "7",
         "Confirmed not a trap. Its been like this for probably 2 months, we have just let it slowly spread by word of mouth",
         "['Confirmed', 'not', 'a', 'trap', '.', 'Its', 'been', 'like', 'this', 'for', 'probably', '2', 'months', ',', 'we', 'have', 'just', 'let', 'it', 'slowly', 'spread', 'by', 'word', 'of', 'mouth']"
        ],
        [
         "8",
         "Am I the only one seeing the cup & handle breakout here? 52 week high? Third Green Day? The pivot was on Thursday. Perfectly held the base trend line to a new high. Follow the technicals folks.",
         "['Am', 'I', 'the', 'only', 'one', 'seeing', 'the', 'cup', '&', 'handle', 'breakout', 'here', '?', '52', 'week', 'high', '?', 'Third', 'Green', 'Day', '?', 'The', 'pivot', 'was', 'on', 'Thursday', '.', 'Perfectly', 'held', 'the', 'base', 'trend', 'line', 'to', 'a', 'new', 'high', '.', 'Follow', 'the', 'technicals', 'folks', '.']"
        ],
        [
         "9",
         "HLGN is $10. Hurry and catch it now before it shoots to the moon!",
         "['HLGN', 'is', '$', '10', '.', 'Hurry', 'and', 'catch', 'it', 'now', 'before', 'it', 'shoots', 'to', 'the', 'moon', '!']"
        ],
        [
         "10",
         "It's a copy/paste from a Bloomberg terminal.",
         "['It', \"'s\", 'a', 'copy/paste', 'from', 'a', 'Bloomberg', 'terminal', '.']"
        ],
        [
         "11",
         "this sub has ruined emails for me, whenever I write “Best regards” I think of WSB",
         "['this', 'sub', 'has', 'ruined', 'emails', 'for', 'me', ',', 'whenever', 'I', 'write', '“', 'Best', 'regards', '”', 'I', 'think', 'of', 'WSB']"
        ],
        [
         "12",
         "Honestly let the economy burn, maybe people will learn",
         "['Honestly', 'let', 'the', 'economy', 'burn', ',', 'maybe', 'people', 'will', 'learn']"
        ],
        [
         "13",
         "\r\nI’ve been doing pretty good with this, but it’s heavy on fees. Looking for a similar risk return profile but any ideas on how to do it with less fees? \r\nI don’t want to sell calls by myself.\r\n\r\nQdte 35%\r\nUpro 25%\r\nTltw 15%\r\nIspy 10%\r\nBrkb 10%\r\nMsci/Nvda 5%",
         "['I', '’', 've', 'been', 'doing', 'pretty', 'good', 'with', 'this', ',', 'but', 'it', '’', 's', 'heavy', 'on', 'fees', '.', 'Looking', 'for', 'a', 'similar', 'risk', 'return', 'profile', 'but', 'any', 'ideas', 'on', 'how', 'to', 'do', 'it', 'with', 'less', 'fees', '?', 'I', 'don', '’', 't', 'want', 'to', 'sell', 'calls', 'by', 'myself', '.', 'Qdte', '35', '%', 'Upro', '25', '%', 'Tltw', '15', '%', 'Ispy', '10', '%', 'Brkb', '10', '%', 'Msci/Nvda', '5', '%']"
        ],
        [
         "14",
         "USA begging China to call them",
         "['USA', 'begging', 'China', 'to', 'call', 'them']"
        ],
        [
         "15",
         "Disgusting tactics",
         "['Disgusting', 'tactics']"
        ],
        [
         "16",
         "Jesus Christ",
         "['Jesus', 'Christ']"
        ],
        [
         "17",
         "Exactly this. Trump will blink first because, in the end, he will have to answer to his people for high prices, empty shelves, and a useless dollar. People will protest and riot, there will be growing calls for his removal from office, things will halt to a standstill and there will be general chaos.\r\n\r\nPeople try that in China, and it will be Tiananmen Square 2.0. There will be no revolt, there will be no dissent. People will do as the CCP says or suffer severe punishment.\r\n\r\nXi holds the cards in a long term trade war. Trump does not. He can’t win this even if his mental illness tells him otherwise.",
         "['Exactly', 'this', '.', 'Trump', 'will', 'blink', 'first', 'because', ',', 'in', 'the', 'end', ',', 'he', 'will', 'have', 'to', 'answer', 'to', 'his', 'people', 'for', 'high', 'prices', ',', 'empty', 'shelves', ',', 'and', 'a', 'useless', 'dollar', '.', 'People', 'will', 'protest', 'and', 'riot', ',', 'there', 'will', 'be', 'growing', 'calls', 'for', 'his', 'removal', 'from', 'office', ',', 'things', 'will', 'halt', 'to', 'a', 'standstill', 'and', 'there', 'will', 'be', 'general', 'chaos', '.', 'People', 'try', 'that', 'in', 'China', ',', 'and', 'it', 'will', 'be', 'Tiananmen', 'Square', '2.0', '.', 'There', 'will', 'be', 'no', 'revolt', ',', 'there', 'will', 'be', 'no', 'dissent', '.', 'People', 'will', 'do', 'as', 'the', 'CCP', 'says', 'or', 'suffer', 'severe', 'punishment', '.', 'Xi', 'holds', 'the', 'cards', 'in', 'a', 'long', 'term', 'trade', 'war', '.', 'Trump', 'does', 'not', '.', 'He', 'can', '’', 't', 'win', 'this', 'even', 'if', 'his', 'mental', 'illness', 'tells', 'him', 'otherwise', '.']"
        ],
        [
         "18",
         "Trump and dump",
         "['Trump', 'and', 'dump']"
        ],
        [
         "19",
         "I think we are past the numbers. Just assume folks world wide are now looking for another safe place to store their money.\r\n\r\nWe used to be the place. That is over.\r\n\r\nHell I am in the US and I am looking for a safer place to store my money.\r\n\r\nWe are in uncharted waters here and we have an economy that was already shaky to begin with.\r\n\r\nFar too many Americans are woefully unaware of how big the world is or how much we actually depend on them. \r\n\r\nLots of hard lessons to be learned going forward.\r\n\r\nTo sell bonds and treasuries we need people to believe their money is safe if they buy them. That idea is rapidly exiting stage right.\r\n\r\nI could be wrong but I think those rates are  screaming at us that we are going down rapidly as a trusted partner.",
         "['I', 'think', 'we', 'are', 'past', 'the', 'numbers', '.', 'Just', 'assume', 'folks', 'world', 'wide', 'are', 'now', 'looking', 'for', 'another', 'safe', 'place', 'to', 'store', 'their', 'money', '.', 'We', 'used', 'to', 'be', 'the', 'place', '.', 'That', 'is', 'over', '.', 'Hell', 'I', 'am', 'in', 'the', 'US', 'and', 'I', 'am', 'looking', 'for', 'a', 'safer', 'place', 'to', 'store', 'my', 'money', '.', 'We', 'are', 'in', 'uncharted', 'waters', 'here', 'and', 'we', 'have', 'an', 'economy', 'that', 'was', 'already', 'shaky', 'to', 'begin', 'with', '.', 'Far', 'too', 'many', 'Americans', 'are', 'woefully', 'unaware', 'of', 'how', 'big', 'the', 'world', 'is', 'or', 'how', 'much', 'we', 'actually', 'depend', 'on', 'them', '.', 'Lots', 'of', 'hard', 'lessons', 'to', 'be', 'learned', 'going', 'forward', '.', 'To', 'sell', 'bonds', 'and', 'treasuries', 'we', 'need', 'people', 'to', 'believe', 'their', 'money', 'is', 'safe', 'if', 'they', 'buy', 'them', '.', 'That', 'idea', 'is', 'rapidly', 'exiting', 'stage', 'right', '.', 'I', 'could', 'be', 'wrong', 'but', 'I', 'think', 'those', 'rates', 'are', 'screaming', 'at', 'us', 'that', 'we', 'are', 'going', 'down', 'rapidly', 'as', 'a', 'trusted', 'partner', '.']"
        ],
        [
         "20",
         "Nooo dont go down its smug bull day",
         "['Nooo', 'dont', 'go', 'down', 'its', 'smug', 'bull', 'day']"
        ],
        [
         "21",
         "GEO WM",
         "['GEO', 'WM']"
        ],
        [
         "22",
         "Google \"target dei\".\r\n\r\nI did it for you.\r\n\r\n",
         "['Google', '``', 'target', 'dei', \"''\", '.', 'I', 'did', 'it', 'for', 'you', '.']"
        ],
        [
         "23",
         "I feel like these HFs took the word \"retard\" thrown around at WSB too literally. Now they are trying to pack shit in Tiffany bags and sell it to us. But we ain't buying it!",
         "['I', 'feel', 'like', 'these', 'HFs', 'took', 'the', 'word', '``', 'retard', \"''\", 'thrown', 'around', 'at', 'WSB', 'too', 'literally', '.', 'Now', 'they', 'are', 'trying', 'to', 'pack', 'shit', 'in', 'Tiffany', 'bags', 'and', 'sell', 'it', 'to', 'us', '.', 'But', 'we', 'ai', \"n't\", 'buying', 'it', '!']"
        ],
        [
         "24",
         "Shop like a billionaire.",
         "['Shop', 'like', 'a', 'billionaire', '.']"
        ],
        [
         "25",
         "You see, Target, pissing off a good chunk of your loyal customer base wasn't a good idea.",
         "['You', 'see', ',', 'Target', ',', 'pissing', 'off', 'a', 'good', 'chunk', 'of', 'your', 'loyal', 'customer', 'base', 'was', \"n't\", 'a', 'good', 'idea', '.']"
        ],
        [
         "26",
         "China will never lose a trade war. Delusional old guy from Queens never understood that.",
         "['China', 'will', 'never', 'lose', 'a', 'trade', 'war', '.', 'Delusional', 'old', 'guy', 'from', 'Queens', 'never', 'understood', 'that', '.']"
        ],
        [
         "27",
         "Any thoughts on RVPH?",
         "['Any', 'thoughts', 'on', 'RVPH', '?']"
        ],
        [
         "28",
         "My first wife was tarded, she's a pilot now.",
         "['My', 'first', 'wife', 'was', 'tarded', ',', 'she', \"'s\", 'a', 'pilot', 'now', '.']"
        ],
        [
         "29",
         "Is sundial growers going to rise up?",
         "['Is', 'sundial', 'growers', 'going', 'to', 'rise', 'up', '?']"
        ],
        [
         "30",
         "> Still seems like an awful investment\r\n\r\nThat sentiment, above everything else happening, is what has me most terrified.\r\n\r\nFaith in the US economy is crumbling.",
         "['>', 'Still', 'seems', 'like', 'an', 'awful', 'investment', 'That', 'sentiment', ',', 'above', 'everything', 'else', 'happening', ',', 'is', 'what', 'has', 'me', 'most', 'terrified', '.', 'Faith', 'in', 'the', 'US', 'economy', 'is', 'crumbling', '.']"
        ],
        [
         "31",
         "$EVGO \r\n\r\n*Record Revenue increasing 5 straight Quarters\r\n\r\n*30% SI, poised for a massive squeeze on a small cap. There is no bear thesis anymore\r\n\r\n*Major partnership with key OEM’s (now Toyota in addition to GM, Honda, Ford, Rivian 33 all together)-\r\n\r\n*There was a NYT article where a VP of EVGO mentioned that red states are actually some of their biggest partners as they see it as inevitable: \r\n\r\n“Sara Rafalson, a vice president at EVgo, a Los Angeles-based charging company that has built chargers in over 35 states, said that the company was seeing its biggest demand growth in Republican-led states like Texas and Florida.”\r\n\r\n*EV winter is ending with GM EV Equinox launch June 17th + Costco Discount + EV Blazer Cost Reduction + Stellantis $25K Jeep + many other cheap EV’s 2nd half of this year under, Hertz firesale of EV’s under $25K + $4500 to $7500 incentive\r\n\r\n*CEO Insider buy of 125,000 shares \r\n\r\n*Lower interest rates in September combined with many new cheap electric vehicle models like GM Equinox Compact\r\n\r\n*Low Debt\r\n\r\n*Rolling out North American Charging Standard NACS to entire country so ALL vehicles can recharge at Charging stations\r\n\r\n*1,000,000 customers doubling annually (at least, likely more)\r\n\r\n*Artificial Intelligence to place charging stations for maximum Charging Revenue\r\n\r\n*Renew program to upgrade older stations\r\n\r\n*100% USA parts compliant so not affected by China Tariffs and will take business from others\r\n\r\n*The US must upgrade its EV infrastructure if they want to compete globally. EVGO is the only fast chargers. BLNK and CHPT only give you one time sales revenue whereas EVGO gives you multiple.\r\n\r\n*TESLA backing off of electric vehicle Charging leaves even more room to grow. EVGO is next best at L3 Chargers\r\n\r\n*EBIDTA forecast to be positive in early 2025 if not sooner\r\n\r\n*Will NOT have to do a secondary offering - line of credit in case, high growth and cash reserves, may not even need it.\r\n\r\n*Rates are getting cut soon leading to more growth \r\n\r\n*They expect a DOE loan this year \r\n\r\n*trading sideways right now, perfect entry before the next leg up. Last spike up took 1 month and 1 week of sideways trading. Based off the same timeline, we are a week off. \r\n\r\n*They are adding high end talent, big names from Tesla. Recently hired a CPO, Chief Peoples Officer implying they are expecting to expand rapidly thus need someone with strong connections in the space.",
         "['$', 'EVGO', '*', 'Record', 'Revenue', 'increasing', '5', 'straight', 'Quarters', '*', '30', '%', 'SI', ',', 'poised', 'for', 'a', 'massive', 'squeeze', 'on', 'a', 'small', 'cap', '.', 'There', 'is', 'no', 'bear', 'thesis', 'anymore', '*', 'Major', 'partnership', 'with', 'key', 'OEM', '’', 's', '(', 'now', 'Toyota', 'in', 'addition', 'to', 'GM', ',', 'Honda', ',', 'Ford', ',', 'Rivian', '33', 'all', 'together', ')', '-', '*', 'There', 'was', 'a', 'NYT', 'article', 'where', 'a', 'VP', 'of', 'EVGO', 'mentioned', 'that', 'red', 'states', 'are', 'actually', 'some', 'of', 'their', 'biggest', 'partners', 'as', 'they', 'see', 'it', 'as', 'inevitable', ':', '“', 'Sara', 'Rafalson', ',', 'a', 'vice', 'president', 'at', 'EVgo', ',', 'a', 'Los', 'Angeles-based', 'charging', 'company', 'that', 'has', 'built', 'chargers', 'in', 'over', '35', 'states', ',', 'said', 'that', 'the', 'company', 'was', 'seeing', 'its', 'biggest', 'demand', 'growth', 'in', 'Republican-led', 'states', 'like', 'Texas', 'and', 'Florida.', '”', '*', 'EV', 'winter', 'is', 'ending', 'with', 'GM', 'EV', 'Equinox', 'launch', 'June', '17th', '+', 'Costco', 'Discount', '+', 'EV', 'Blazer', 'Cost', 'Reduction', '+', 'Stellantis', '$', '25K', 'Jeep', '+', 'many', 'other', 'cheap', 'EV', '’', 's', '2nd', 'half', 'of', 'this', 'year', 'under', ',', 'Hertz', 'firesale', 'of', 'EV', '’', 's', 'under', '$', '25K', '+', '$', '4500', 'to', '$', '7500', 'incentive', '*', 'CEO', 'Insider', 'buy', 'of', '125,000', 'shares', '*', 'Lower', 'interest', 'rates', 'in', 'September', 'combined', 'with', 'many', 'new', 'cheap', 'electric', 'vehicle', 'models', 'like', 'GM', 'Equinox', 'Compact', '*', 'Low', 'Debt', '*', 'Rolling', 'out', 'North', 'American', 'Charging', 'Standard', 'NACS', 'to', 'entire', 'country', 'so', 'ALL', 'vehicles', 'can', 'recharge', 'at', 'Charging', 'stations', '*', '1,000,000', 'customers', 'doubling', 'annually', '(', 'at', 'least', ',', 'likely', 'more', ')', '*', 'Artificial', 'Intelligence', 'to', 'place', 'charging', 'stations', 'for', 'maximum', 'Charging', 'Revenue', '*', 'Renew', 'program', 'to', 'upgrade', 'older', 'stations', '*', '100', '%', 'USA', 'parts', 'compliant', 'so', 'not', 'affected', 'by', 'China', 'Tariffs', 'and', 'will', 'take', 'business', 'from', 'others', '*', 'The', 'US', 'must', 'upgrade', 'its', 'EV', 'infrastructure', 'if', 'they', 'want', 'to', 'compete', 'globally', '.', 'EVGO', 'is', 'the', 'only', 'fast', 'chargers', '.', 'BLNK', 'and', 'CHPT', 'only', 'give', 'you', 'one', 'time', 'sales', 'revenue', 'whereas', 'EVGO', 'gives', 'you', 'multiple', '.', '*', 'TESLA', 'backing', 'off', 'of', 'electric', 'vehicle', 'Charging', 'leaves', 'even', 'more', 'room', 'to', 'grow', '.', 'EVGO', 'is', 'next', 'best', 'at', 'L3', 'Chargers', '*', 'EBIDTA', 'forecast', 'to', 'be', 'positive', 'in', 'early', '2025', 'if', 'not', 'sooner', '*', 'Will', 'NOT', 'have', 'to', 'do', 'a', 'secondary', 'offering', '-', 'line', 'of', 'credit', 'in', 'case', ',', 'high', 'growth', 'and', 'cash', 'reserves', ',', 'may', 'not', 'even', 'need', 'it', '.', '*', 'Rates', 'are', 'getting', 'cut', 'soon', 'leading', 'to', 'more', 'growth', '*', 'They', 'expect', 'a', 'DOE', 'loan', 'this', 'year', '*', 'trading', 'sideways', 'right', 'now', ',', 'perfect', 'entry', 'before', 'the', 'next', 'leg', 'up', '.', 'Last', 'spike', 'up', 'took', '1', 'month', 'and', '1', 'week', 'of', 'sideways', 'trading', '.', 'Based', 'off', 'the', 'same', 'timeline', ',', 'we', 'are', 'a', 'week', 'off', '.', '*', 'They', 'are', 'adding', 'high', 'end', 'talent', ',', 'big', 'names', 'from', 'Tesla', '.', 'Recently', 'hired', 'a', 'CPO', ',', 'Chief', 'Peoples', 'Officer', 'implying', 'they', 'are', 'expecting', 'to', 'expand', 'rapidly', 'thus', 'need', 'someone', 'with', 'strong', 'connections', 'in', 'the', 'space', '.']"
        ],
        [
         "32",
         "Sorry; I’m dumb but is this not just a USD to X conversion chart?",
         "['Sorry', ';', 'I', '’', 'm', 'dumb', 'but', 'is', 'this', 'not', 'just', 'a', 'USD', 'to', 'X', 'conversion', 'chart', '?']"
        ],
        [
         "33",
         "Pls respond",
         "['Pls', 'respond']"
        ],
        [
         "34",
         "So they went from saying redditors are bad for manipulating the market o praising silver??",
         "['So', 'they', 'went', 'from', 'saying', 'redditors', 'are', 'bad', 'for', 'manipulating', 'the', 'market', 'o', 'praising', 'silver', '?', '?']"
        ],
        [
         "35",
         "Goshdang about time. It was fine to say when I was a kid, fine in college, but then I went to war and when I come back the whole world got suuuuuper weird. 2012 was a pretty important year to miss or something?",
         "['Goshdang', 'about', 'time', '.', 'It', 'was', 'fine', 'to', 'say', 'when', 'I', 'was', 'a', 'kid', ',', 'fine', 'in', 'college', ',', 'but', 'then', 'I', 'went', 'to', 'war', 'and', 'when', 'I', 'come', 'back', 'the', 'whole', 'world', 'got', 'suuuuuper', 'weird', '.', '2012', 'was', 'a', 'pretty', 'important', 'year', 'to', 'miss', 'or', 'something', '?']"
        ],
        [
         "36",
         "Xi is calm and sure-footed in his response to Trump, while Trump is irrational and makes quick decisions without considering the consequence. Also, he's stupid.",
         "['Xi', 'is', 'calm', 'and', 'sure-footed', 'in', 'his', 'response', 'to', 'Trump', ',', 'while', 'Trump', 'is', 'irrational', 'and', 'makes', 'quick', 'decisions', 'without', 'considering', 'the', 'consequence', '.', 'Also', ',', 'he', \"'s\", 'stupid', '.']"
        ],
        [
         "37",
         "Cash",
         "['Cash']"
        ],
        [
         "38",
         "Hey our net worth match now, we can be friends!",
         "['Hey', 'our', 'net', 'worth', 'match', 'now', ',', 'we', 'can', 'be', 'friends', '!']"
        ],
        [
         "39",
         "Other countries probably will go through a recession, but there is no reason at all that they would suffer hyperinflation.  Remember that they can mitigate inflation by trading with any other country.  There is very little that only the US makes.  Only the US dollar is wobbly right now.",
         "['Other', 'countries', 'probably', 'will', 'go', 'through', 'a', 'recession', ',', 'but', 'there', 'is', 'no', 'reason', 'at', 'all', 'that', 'they', 'would', 'suffer', 'hyperinflation', '.', 'Remember', 'that', 'they', 'can', 'mitigate', 'inflation', 'by', 'trading', 'with', 'any', 'other', 'country', '.', 'There', 'is', 'very', 'little', 'that', 'only', 'the', 'US', 'makes', '.', 'Only', 'the', 'US', 'dollar', 'is', 'wobbly', 'right', 'now', '.']"
        ],
        [
         "40",
         "These China AI factory memes are pretty good. I gotta admit they boomed us this time.",
         "['These', 'China', 'AI', 'factory', 'memes', 'are', 'pretty', 'good', '.', 'I', 'got', 'ta', 'admit', 'they', 'boomed', 'us', 'this', 'time', '.']"
        ],
        [
         "41",
         "And plug",
         "['And', 'plug']"
        ],
        [
         "42",
         "So they went from saying redditors are bad for manipulating the market o praising silver??",
         "['So', 'they', 'went', 'from', 'saying', 'redditors', 'are', 'bad', 'for', 'manipulating', 'the', 'market', 'o', 'praising', 'silver', '?', '?']"
        ],
        [
         "43",
         "what if time machine parts come from china",
         "['what', 'if', 'time', 'machine', 'parts', 'come', 'from', 'china']"
        ],
        [
         "44",
         "Completely unrelated, but for like 20 years of my life, I thought the saying was \"Button down the hatches\".  I was like 27 or something when somebody corrected me and now every time I see it, I always think \"Man, that was really a common knowledge thing that I just didn't know\".",
         "['Completely', 'unrelated', ',', 'but', 'for', 'like', '20', 'years', 'of', 'my', 'life', ',', 'I', 'thought', 'the', 'saying', 'was', '``', 'Button', 'down', 'the', 'hatches', \"''\", '.', 'I', 'was', 'like', '27', 'or', 'something', 'when', 'somebody', 'corrected', 'me', 'and', 'now', 'every', 'time', 'I', 'see', 'it', ',', 'I', 'always', 'think', '``', 'Man', ',', 'that', 'was', 'really', 'a', 'common', 'knowledge', 'thing', 'that', 'I', 'just', 'did', \"n't\", 'know', \"''\", '.']"
        ],
        [
         "45",
         "100% fact! Truth hurts.",
         "['100', '%', 'fact', '!', 'Truth', 'hurts', '.']"
        ],
        [
         "46",
         "If the \"rule of law\" wasn't a total joke, I might feel badly about it-- but it seems like nobody who matters does, so why should I?",
         "['If', 'the', '``', 'rule', 'of', 'law', \"''\", 'was', \"n't\", 'a', 'total', 'joke', ',', 'I', 'might', 'feel', 'badly', 'about', 'it', '--', 'but', 'it', 'seems', 'like', 'nobody', 'who', 'matters', 'does', ',', 'so', 'why', 'should', 'I', '?']"
        ],
        [
         "47",
         "Weekend thread is where the real ones at ![img](emote|t5_2th52|8883)",
         "['Weekend', 'thread', 'is', 'where', 'the', 'real', 'ones', 'at', '!', '[', 'img', ']', '(', 'emote|t5_2th52|8883', ')']"
        ],
        [
         "48",
         "\r\n\r\n  [MarketWatch: Stock Market News - Financial News - Earmings Stonkvest (stockbuyvest.com)]() \r\n\r\n\\#catalyst #event #earnings",
         "['[', 'MarketWatch', ':', 'Stock', 'Market', 'News', '-', 'Financial', 'News', '-', 'Earmings', 'Stonkvest', '(', 'stockbuyvest.com', ')', ']', '(', ')', '\\\\', '#', 'catalyst', '#', 'event', '#', 'earnings']"
        ],
        [
         "49",
         "And you are? \r\n\r\nMarket. Mr. Market. ",
         "['And', 'you', 'are', '?', 'Market', '.', 'Mr.', 'Market', '.']"
        ]
       ],
       "shape": {
        "columns": 2,
        "rows": 847
       }
      },
      "text/html": [
       "<div>\n",
       "<style scoped>\n",
       "    .dataframe tbody tr th:only-of-type {\n",
       "        vertical-align: middle;\n",
       "    }\n",
       "\n",
       "    .dataframe tbody tr th {\n",
       "        vertical-align: top;\n",
       "    }\n",
       "\n",
       "    .dataframe thead th {\n",
       "        text-align: right;\n",
       "    }\n",
       "</style>\n",
       "<table border=\"1\" class=\"dataframe\">\n",
       "  <thead>\n",
       "    <tr style=\"text-align: right;\">\n",
       "      <th></th>\n",
       "      <th>text</th>\n",
       "      <th>unigrams</th>\n",
       "    </tr>\n",
       "  </thead>\n",
       "  <tbody>\n",
       "    <tr>\n",
       "      <th>0</th>\n",
       "      <td>Calls on retards</td>\n",
       "      <td>[Calls, on, retards]</td>\n",
       "    </tr>\n",
       "    <tr>\n",
       "      <th>1</th>\n",
       "      <td>Stunt as in like why did they even make a big ...</td>\n",
       "      <td>[Stunt, as, in, like, why, did, they, even, ma...</td>\n",
       "    </tr>\n",
       "    <tr>\n",
       "      <th>2</th>\n",
       "      <td>Seeing lots of red in the ticker.</td>\n",
       "      <td>[Seeing, lots, of, red, in, the, ticker, .]</td>\n",
       "    </tr>\n",
       "    <tr>\n",
       "      <th>3</th>\n",
       "      <td>Vision Marine Technologies Inc. is rewriting t...</td>\n",
       "      <td>[Vision, Marine, Technologies, Inc., is, rewri...</td>\n",
       "    </tr>\n",
       "    <tr>\n",
       "      <th>4</th>\n",
       "      <td>He didn’t say thank you.</td>\n",
       "      <td>[He, didn, ’, t, say, thank, you, .]</td>\n",
       "    </tr>\n",
       "    <tr>\n",
       "      <th>...</th>\n",
       "      <td>...</td>\n",
       "      <td>...</td>\n",
       "    </tr>\n",
       "    <tr>\n",
       "      <th>842</th>\n",
       "      <td>Invest now it is going to shoot up tomorrow</td>\n",
       "      <td>[Invest, now, it, is, going, to, shoot, up, to...</td>\n",
       "    </tr>\n",
       "    <tr>\n",
       "      <th>843</th>\n",
       "      <td>Where can I read this?</td>\n",
       "      <td>[Where, can, I, read, this, ?]</td>\n",
       "    </tr>\n",
       "    <tr>\n",
       "      <th>844</th>\n",
       "      <td>Upgrades, Downgrades\\r\\n\\r\\n [Stock Analyst Re...</td>\n",
       "      <td>[Upgrades, ,, Downgrades, [, Stock, Analyst, R...</td>\n",
       "    </tr>\n",
       "    <tr>\n",
       "      <th>845</th>\n",
       "      <td>i sold my puts so i expect cheeto to declare w...</td>\n",
       "      <td>[i, sold, my, puts, so, i, expect, cheeto, to,...</td>\n",
       "    </tr>\n",
       "    <tr>\n",
       "      <th>846</th>\n",
       "      <td>![img](emote|t5_2th52|31224)</td>\n",
       "      <td>[!, [, img, ], (, emote|t5_2th52|31224, )]</td>\n",
       "    </tr>\n",
       "  </tbody>\n",
       "</table>\n",
       "<p>847 rows × 2 columns</p>\n",
       "</div>"
      ],
      "text/plain": [
       "                                                  text  \\\n",
       "0                                     Calls on retards   \n",
       "1    Stunt as in like why did they even make a big ...   \n",
       "2                    Seeing lots of red in the ticker.   \n",
       "3    Vision Marine Technologies Inc. is rewriting t...   \n",
       "4                             He didn’t say thank you.   \n",
       "..                                                 ...   \n",
       "842        Invest now it is going to shoot up tomorrow   \n",
       "843                             Where can I read this?   \n",
       "844  Upgrades, Downgrades\\r\\n\\r\\n [Stock Analyst Re...   \n",
       "845  i sold my puts so i expect cheeto to declare w...   \n",
       "846                       ![img](emote|t5_2th52|31224)   \n",
       "\n",
       "                                              unigrams  \n",
       "0                                 [Calls, on, retards]  \n",
       "1    [Stunt, as, in, like, why, did, they, even, ma...  \n",
       "2          [Seeing, lots, of, red, in, the, ticker, .]  \n",
       "3    [Vision, Marine, Technologies, Inc., is, rewri...  \n",
       "4                 [He, didn, ’, t, say, thank, you, .]  \n",
       "..                                                 ...  \n",
       "842  [Invest, now, it, is, going, to, shoot, up, to...  \n",
       "843                     [Where, can, I, read, this, ?]  \n",
       "844  [Upgrades, ,, Downgrades, [, Stock, Analyst, R...  \n",
       "845  [i, sold, my, puts, so, i, expect, cheeto, to,...  \n",
       "846         [!, [, img, ], (, emote|t5_2th52|31224, )]  \n",
       "\n",
       "[847 rows x 2 columns]"
      ]
     },
     "execution_count": 28,
     "metadata": {},
     "output_type": "execute_result"
    }
   ],
   "source": [
    "text_df['unigrams'] = text_df['text'].apply(lambda x: list(nltk.word_tokenize(x)))\n",
    "text_df"
   ]
  },
  {
   "cell_type": "markdown",
   "metadata": {},
   "source": [
    "Use `CountVectorizer` to convert the text data into a sparse matrix of token counts."
   ]
  },
  {
   "cell_type": "code",
   "execution_count": null,
   "metadata": {},
   "outputs": [
    {
     "name": "stdout",
     "output_type": "stream",
     "text": [
      "<Compressed Sparse Row sparse matrix of dtype 'int64'\n",
      "\twith 3 stored elements and shape (1, 4346)>\n",
      "  Coords\tValues\n",
      "  (0, 692)\t1\n",
      "  (0, 2706)\t1\n",
      "  (0, 3248)\t1\n",
      "\n",
      "Word 692 : calls\n",
      "Word 2706: on\n",
      "Word 3248: retards\n"
     ]
    }
   ],
   "source": [
    "# Transform the araticles into a document-term matrix using CountVectorizer\n",
    "\n",
    "count_vect = CountVectorizer()\n",
    "counts = count_vect.fit_transform(text_df.text) #learn the vocabulary and return document-term matrix\n",
    "print(counts[0])\n",
    "print(f'\\nWord 692 :', count_vect.get_feature_names_out()[692])\n",
    "print(f'Word 2706:', count_vect.get_feature_names_out()[2706])\n",
    "print(f'Word 3248:', count_vect.get_feature_names_out()[3248])"
   ]
  },
  {
   "cell_type": "code",
   "execution_count": 37,
   "metadata": {},
   "outputs": [
    {
     "data": {
      "text/plain": [
       "(847, 4346)"
      ]
     },
     "execution_count": 37,
     "metadata": {},
     "output_type": "execute_result"
    }
   ],
   "source": [
    "counts.shape"
   ]
  },
  {
   "cell_type": "markdown",
   "metadata": {},
   "source": [
    "Let's draw some plots to visualize the term frequency of each word in the corpus."
   ]
  },
  {
   "cell_type": "code",
   "execution_count": null,
   "metadata": {},
   "outputs": [
    {
     "data": {
      "image/png": "[encoded data removed]",
      "text/plain": [
       "<Figure size 800x600 with 2 Axes>"
      ]
     },
     "metadata": {},
     "output_type": "display_data"
    }
   ],
   "source": [
    "# For better visualization, \n",
    "# let's sort the words by their frequency first.\n",
    "tdm = counts.toarray()\n",
    "\n",
    "term_freq = np.array(tdm.sum(axis=0))\n",
    "top_indices = term_freq.argsort()[-20:]  # top 10 terms\n",
    "tdm_top = tdm[:20, top_indices]\n",
    "terms = np.array(count_vect.get_feature_names_out())\n",
    "terms_top = terms[top_indices]\n",
    "\n",
    "# Draw heatplot\n",
    "plt.figure(figsize=(8, 6))\n",
    "sns.heatmap(tdm_top, cmap=\"YlGnBu\", annot=True, fmt=\"d\")\n",
    "plt.title(\"Heatmap of Top Frequent Terms in Documents\")\n",
    "plt.xlabel(\"Top Terms\")\n",
    "plt.ylabel(\"Documents\")\n",
    "plt.xticks(np.arange(len(terms_top))+0.5, terms_top, rotation=90)\n",
    "plt.show()"
   ]
  },
  {
   "cell_type": "code",
   "execution_count": 55,
   "metadata": {},
   "outputs": [
    {
     "data": {
      "application/vnd.plotly.v1+json": {
       "config": {
        "plotlyServerURL": "https://plot.ly"
       },
       "data": [
        {
         "hovertemplate": "Terms=%{x}<br>Frequencies=%{y}<extra></extra>",
         "legendgroup": "",
         "marker": {
          "color": "#636efa",
          "pattern": {
           "shape": ""
          }
         },
         "name": "",
         "orientation": "v",
         "showlegend": false,
         "textposition": "auto",
         "type": "bar",
         "x": [
          "the",
          "to",
          "and",
          "is",
          "it",
          "of",
          "in",
          "that",
          "for",
          "this",
          "you",
          "on",
          "are",
          "they",
          "be",
          "he",
          "will",
          "with",
          "if",
          "as"
         ],
         "xaxis": "x",
         "y": {
          "bdata": "mAM2AugBkgFeATcBHgHuANYA1QDDAKsAmwCWAIYAhAB/AH4AdwBzAA==",
          "dtype": "i2"
         },
         "yaxis": "y"
        }
       ],
       "layout": {
        "barmode": "relative",
        "height": 600,
        "legend": {
         "tracegroupgap": 0
        },
        "template": {
         "data": {
          "bar": [
           {
            "error_x": {
             "color": "#2a3f5f"
            },
            "error_y": {
             "color": "#2a3f5f"
            },
            "marker": {
             "line": {
              "color": "#E5ECF6",
              "width": 0.5
             },
             "pattern": {
              "fillmode": "overlay",
              "size": 10,
              "solidity": 0.2
             }
            },
            "type": "bar"
           }
          ],
          "barpolar": [
           {
            "marker": {
             "line": {
              "color": "#E5ECF6",
              "width": 0.5
             },
             "pattern": {
              "fillmode": "overlay",
              "size": 10,
              "solidity": 0.2
             }
            },
            "type": "barpolar"
           }
          ],
          "carpet": [
           {
            "aaxis": {
             "endlinecolor": "#2a3f5f",
             "gridcolor": "white",
             "linecolor": "white",
             "minorgridcolor": "white",
             "startlinecolor": "#2a3f5f"
            },
            "baxis": {
             "endlinecolor": "#2a3f5f",
             "gridcolor": "white",
             "linecolor": "white",
             "minorgridcolor": "white",
             "startlinecolor": "#2a3f5f"
            },
            "type": "carpet"
           }
          ],
          "choropleth": [
           {
            "colorbar": {
             "outlinewidth": 0,
             "ticks": ""
            },
            "type": "choropleth"
           }
          ],
          "contour": [
           {
            "colorbar": {
             "outlinewidth": 0,
             "ticks": ""
            },
            "colorscale": [
             [
              0,
              "#0d0887"
             ],
             [
              0.1111111111111111,
              "#46039f"
             ],
             [
              0.2222222222222222,
              "#7201a8"
             ],
             [
              0.3333333333333333,
              "#9c179e"
             ],
             [
              0.4444444444444444,
              "#bd3786"
             ],
             [
              0.5555555555555556,
              "#d8576b"
             ],
             [
              0.6666666666666666,
              "#ed7953"
             ],
             [
              0.7777777777777778,
              "#fb9f3a"
             ],
             [
              0.8888888888888888,
              "#fdca26"
             ],
             [
              1,
              "#f0f921"
             ]
            ],
            "type": "contour"
           }
          ],
          "contourcarpet": [
           {
            "colorbar": {
             "outlinewidth": 0,
             "ticks": ""
            },
            "type": "contourcarpet"
           }
          ],
          "heatmap": [
           {
            "colorbar": {
             "outlinewidth": 0,
             "ticks": ""
            },
            "colorscale": [
             [
              0,
              "#0d0887"
             ],
             [
              0.1111111111111111,
              "#46039f"
             ],
             [
              0.2222222222222222,
              "#7201a8"
             ],
             [
              0.3333333333333333,
              "#9c179e"
             ],
             [
              0.4444444444444444,
              "#bd3786"
             ],
             [
              0.5555555555555556,
              "#d8576b"
             ],
             [
              0.6666666666666666,
              "#ed7953"
             ],
             [
              0.7777777777777778,
              "#fb9f3a"
             ],
             [
              0.8888888888888888,
              "#fdca26"
             ],
             [
              1,
              "#f0f921"
             ]
            ],
            "type": "heatmap"
           }
          ],
          "histogram": [
           {
            "marker": {
             "pattern": {
              "fillmode": "overlay",
              "size": 10,
              "solidity": 0.2
             }
            },
            "type": "histogram"
           }
          ],
          "histogram2d": [
           {
            "colorbar": {
             "outlinewidth": 0,
             "ticks": ""
            },
            "colorscale": [
             [
              0,
              "#0d0887"
             ],
             [
              0.1111111111111111,
              "#46039f"
             ],
             [
              0.2222222222222222,
              "#7201a8"
             ],
             [
              0.3333333333333333,
              "#9c179e"
             ],
             [
              0.4444444444444444,
              "#bd3786"
             ],
             [
              0.5555555555555556,
              "#d8576b"
             ],
             [
              0.6666666666666666,
              "#ed7953"
             ],
             [
              0.7777777777777778,
              "#fb9f3a"
             ],
             [
              0.8888888888888888,
              "#fdca26"
             ],
             [
              1,
              "#f0f921"
             ]
            ],
            "type": "histogram2d"
           }
          ],
          "histogram2dcontour": [
           {
            "colorbar": {
             "outlinewidth": 0,
             "ticks": ""
            },
            "colorscale": [
             [
              0,
              "#0d0887"
             ],
             [
              0.1111111111111111,
              "#46039f"
             ],
             [
              0.2222222222222222,
              "#7201a8"
             ],
             [
              0.3333333333333333,
              "#9c179e"
             ],
             [
              0.4444444444444444,
              "#bd3786"
             ],
             [
              0.5555555555555556,
              "#d8576b"
             ],
             [
              0.6666666666666666,
              "#ed7953"
             ],
             [
              0.7777777777777778,
              "#fb9f3a"
             ],
             [
              0.8888888888888888,
              "#fdca26"
             ],
             [
              1,
              "#f0f921"
             ]
            ],
            "type": "histogram2dcontour"
           }
          ],
          "mesh3d": [
           {
            "colorbar": {
             "outlinewidth": 0,
             "ticks": ""
            },
            "type": "mesh3d"
           }
          ],
          "parcoords": [
           {
            "line": {
             "colorbar": {
              "outlinewidth": 0,
              "ticks": ""
             }
            },
            "type": "parcoords"
           }
          ],
          "pie": [
           {
            "automargin": true,
            "type": "pie"
           }
          ],
          "scatter": [
           {
            "fillpattern": {
             "fillmode": "overlay",
             "size": 10,
             "solidity": 0.2
            },
            "type": "scatter"
           }
          ],
          "scatter3d": [
           {
            "line": {
             "colorbar": {
              "outlinewidth": 0,
              "ticks": ""
             }
            },
            "marker": {
             "colorbar": {
              "outlinewidth": 0,
              "ticks": ""
             }
            },
            "type": "scatter3d"
           }
          ],
          "scattercarpet": [
           {
            "marker": {
             "colorbar": {
              "outlinewidth": 0,
              "ticks": ""
             }
            },
            "type": "scattercarpet"
           }
          ],
          "scattergeo": [
           {
            "marker": {
             "colorbar": {
              "outlinewidth": 0,
              "ticks": ""
             }
            },
            "type": "scattergeo"
           }
          ],
          "scattergl": [
           {
            "marker": {
             "colorbar": {
              "outlinewidth": 0,
              "ticks": ""
             }
            },
            "type": "scattergl"
           }
          ],
          "scattermap": [
           {
            "marker": {
             "colorbar": {
              "outlinewidth": 0,
              "ticks": ""
             }
            },
            "type": "scattermap"
           }
          ],
          "scattermapbox": [
           {
            "marker": {
             "colorbar": {
              "outlinewidth": 0,
              "ticks": ""
             }
            },
            "type": "scattermapbox"
           }
          ],
          "scatterpolar": [
           {
            "marker": {
             "colorbar": {
              "outlinewidth": 0,
              "ticks": ""
             }
            },
            "type": "scatterpolar"
           }
          ],
          "scatterpolargl": [
           {
            "marker": {
             "colorbar": {
              "outlinewidth": 0,
              "ticks": ""
             }
            },
            "type": "scatterpolargl"
           }
          ],
          "scatterternary": [
           {
            "marker": {
             "colorbar": {
              "outlinewidth": 0,
              "ticks": ""
             }
            },
            "type": "scatterternary"
           }
          ],
          "surface": [
           {
            "colorbar": {
             "outlinewidth": 0,
             "ticks": ""
            },
            "colorscale": [
             [
              0,
              "#0d0887"
             ],
             [
              0.1111111111111111,
              "#46039f"
             ],
             [
              0.2222222222222222,
              "#7201a8"
             ],
             [
              0.3333333333333333,
              "#9c179e"
             ],
             [
              0.4444444444444444,
              "#bd3786"
             ],
             [
              0.5555555555555556,
              "#d8576b"
             ],
             [
              0.6666666666666666,
              "#ed7953"
             ],
             [
              0.7777777777777778,
              "#fb9f3a"
             ],
             [
              0.8888888888888888,
              "#fdca26"
             ],
             [
              1,
              "#f0f921"
             ]
            ],
            "type": "surface"
           }
          ],
          "table": [
           {
            "cells": {
             "fill": {
              "color": "#EBF0F8"
             },
             "line": {
              "color": "white"
             }
            },
            "header": {
             "fill": {
              "color": "#C8D4E3"
             },
             "line": {
              "color": "white"
             }
            },
            "type": "table"
           }
          ]
         },
         "layout": {
          "annotationdefaults": {
           "arrowcolor": "#2a3f5f",
           "arrowhead": 0,
           "arrowwidth": 1
          },
          "autotypenumbers": "strict",
          "coloraxis": {
           "colorbar": {
            "outlinewidth": 0,
            "ticks": ""
           }
          },
          "colorscale": {
           "diverging": [
            [
             0,
             "#8e0152"
            ],
            [
             0.1,
             "#c51b7d"
            ],
            [
             0.2,
             "#de77ae"
            ],
            [
             0.3,
             "#f1b6da"
            ],
            [
             0.4,
             "#fde0ef"
            ],
            [
             0.5,
             "#f7f7f7"
            ],
            [
             0.6,
             "#e6f5d0"
            ],
            [
             0.7,
             "#b8e186"
            ],
            [
             0.8,
             "#7fbc41"
            ],
            [
             0.9,
             "#4d9221"
            ],
            [
             1,
             "#276419"
            ]
           ],
           "sequential": [
            [
             0,
             "#0d0887"
            ],
            [
             0.1111111111111111,
             "#46039f"
            ],
            [
             0.2222222222222222,
             "#7201a8"
            ],
            [
             0.3333333333333333,
             "#9c179e"
            ],
            [
             0.4444444444444444,
             "#bd3786"
            ],
            [
             0.5555555555555556,
             "#d8576b"
            ],
            [
             0.6666666666666666,
             "#ed7953"
            ],
            [
             0.7777777777777778,
             "#fb9f3a"
            ],
            [
             0.8888888888888888,
             "#fdca26"
            ],
            [
             1,
             "#f0f921"
            ]
           ],
           "sequentialminus": [
            [
             0,
             "#0d0887"
            ],
            [
             0.1111111111111111,
             "#46039f"
            ],
            [
             0.2222222222222222,
             "#7201a8"
            ],
            [
             0.3333333333333333,
             "#9c179e"
            ],
            [
             0.4444444444444444,
             "#bd3786"
            ],
            [
             0.5555555555555556,
             "#d8576b"
            ],
            [
             0.6666666666666666,
             "#ed7953"
            ],
            [
             0.7777777777777778,
             "#fb9f3a"
            ],
            [
             0.8888888888888888,
             "#fdca26"
            ],
            [
             1,
             "#f0f921"
            ]
           ]
          },
          "colorway": [
           "#636efa",
           "#EF553B",
           "#00cc96",
           "#ab63fa",
           "#FFA15A",
           "#19d3f3",
           "#FF6692",
           "#B6E880",
           "#FF97FF",
           "#FECB52"
          ],
          "font": {
           "color": "#2a3f5f"
          },
          "geo": {
           "bgcolor": "white",
           "lakecolor": "white",
           "landcolor": "#E5ECF6",
           "showlakes": true,
           "showland": true,
           "subunitcolor": "white"
          },
          "hoverlabel": {
           "align": "left"
          },
          "hovermode": "closest",
          "mapbox": {
           "style": "light"
          },
          "paper_bgcolor": "white",
          "plot_bgcolor": "#E5ECF6",
          "polar": {
           "angularaxis": {
            "gridcolor": "white",
            "linecolor": "white",
            "ticks": ""
           },
           "bgcolor": "#E5ECF6",
           "radialaxis": {
            "gridcolor": "white",
            "linecolor": "white",
            "ticks": ""
           }
          },
          "scene": {
           "xaxis": {
            "backgroundcolor": "#E5ECF6",
            "gridcolor": "white",
            "gridwidth": 2,
            "linecolor": "white",
            "showbackground": true,
            "ticks": "",
            "zerolinecolor": "white"
           },
           "yaxis": {
            "backgroundcolor": "#E5ECF6",
            "gridcolor": "white",
            "gridwidth": 2,
            "linecolor": "white",
            "showbackground": true,
            "ticks": "",
            "zerolinecolor": "white"
           },
           "zaxis": {
            "backgroundcolor": "#E5ECF6",
            "gridcolor": "white",
            "gridwidth": 2,
            "linecolor": "white",
            "showbackground": true,
            "ticks": "",
            "zerolinecolor": "white"
           }
          },
          "shapedefaults": {
           "line": {
            "color": "#2a3f5f"
           }
          },
          "ternary": {
           "aaxis": {
            "gridcolor": "white",
            "linecolor": "white",
            "ticks": ""
           },
           "baxis": {
            "gridcolor": "white",
            "linecolor": "white",
            "ticks": ""
           },
           "bgcolor": "#E5ECF6",
           "caxis": {
            "gridcolor": "white",
            "linecolor": "white",
            "ticks": ""
           }
          },
          "title": {
           "x": 0.05
          },
          "xaxis": {
           "automargin": true,
           "gridcolor": "white",
           "linecolor": "white",
           "ticks": "",
           "title": {
            "standoff": 15
           },
           "zerolinecolor": "white",
           "zerolinewidth": 2
          },
          "yaxis": {
           "automargin": true,
           "gridcolor": "white",
           "linecolor": "white",
           "ticks": "",
           "title": {
            "standoff": 15
           },
           "zerolinecolor": "white",
           "zerolinewidth": 2
          }
         }
        },
        "title": {
         "text": "Most Common 20 Term Frequencies"
        },
        "width": 2000,
        "xaxis": {
         "anchor": "y",
         "domain": [
          0,
          1
         ],
         "title": {
          "text": "Terms"
         }
        },
        "yaxis": {
         "anchor": "x",
         "domain": [
          0,
          1
         ],
         "title": {
          "text": "Frequencies"
         }
        }
       }
      }
     },
     "metadata": {},
     "output_type": "display_data"
    }
   ],
   "source": [
    "# Reverse the order to see the most common terms first\n",
    "top_indices = top_indices[::-1]\n",
    "terms = count_vect.get_feature_names_out()[top_indices]\n",
    "freqs = term_freq[top_indices]\n",
    "\n",
    "# Create bar chart\n",
    "fig = px.bar(\n",
    "    x=terms,\n",
    "    y=freqs,\n",
    "    labels={'x': 'Terms', 'y': 'Frequencies'},\n",
    "    title=\"Most Common 20 Term Frequencies\"\n",
    ")\n",
    "\n",
    "fig.update_layout(\n",
    "    width=2000,\n",
    "    height=600\n",
    ")\n",
    "\n",
    "fig.show()"
   ]
  },
  {
   "cell_type": "code",
   "execution_count": 56,
   "metadata": {},
   "outputs": [
    {
     "data": {
      "application/vnd.plotly.v1+json": {
       "config": {
        "plotlyServerURL": "https://plot.ly"
       },
       "data": [
        {
         "hovertemplate": "Terms=%{x}<br>Frequencies=%{y}<extra></extra>",
         "legendgroup": "",
         "marker": {
          "color": "#636efa",
          "pattern": {
           "shape": ""
          }
         },
         "name": "",
         "orientation": "v",
         "showlegend": false,
         "textposition": "auto",
         "type": "bar",
         "x": [
          "the",
          "to",
          "and",
          "is",
          "it",
          "of",
          "in",
          "that",
          "for",
          "this",
          "you",
          "on",
          "are",
          "they",
          "be",
          "he",
          "will",
          "with",
          "if",
          "as"
         ],
         "xaxis": "x",
         "y": {
          "bdata": "/xKCnChMG0D8AfJnuFoZQMdBsAriwhhALpmy7138F0BtpGIHhm4XQFl97kWM9RZADKk3UbyfFkCRHWnsmuMVQJmOnmrCdhVAjBfQkvZxFUA4aj8yjRcVQBzbWEAQkRRA+vhDoncsFECaToH64woUQGtYB1FjlxNA5GopOv2HE0BCLmCUcmATQFlfwkhaWBNAU9aJjNIdE0BFPeR8z/oSQA==",
          "dtype": "f8"
         },
         "yaxis": "y"
        }
       ],
       "layout": {
        "barmode": "relative",
        "height": 600,
        "legend": {
         "tracegroupgap": 0
        },
        "template": {
         "data": {
          "bar": [
           {
            "error_x": {
             "color": "#2a3f5f"
            },
            "error_y": {
             "color": "#2a3f5f"
            },
            "marker": {
             "line": {
              "color": "#E5ECF6",
              "width": 0.5
             },
             "pattern": {
              "fillmode": "overlay",
              "size": 10,
              "solidity": 0.2
             }
            },
            "type": "bar"
           }
          ],
          "barpolar": [
           {
            "marker": {
             "line": {
              "color": "#E5ECF6",
              "width": 0.5
             },
             "pattern": {
              "fillmode": "overlay",
              "size": 10,
              "solidity": 0.2
             }
            },
            "type": "barpolar"
           }
          ],
          "carpet": [
           {
            "aaxis": {
             "endlinecolor": "#2a3f5f",
             "gridcolor": "white",
             "linecolor": "white",
             "minorgridcolor": "white",
             "startlinecolor": "#2a3f5f"
            },
            "baxis": {
             "endlinecolor": "#2a3f5f",
             "gridcolor": "white",
             "linecolor": "white",
             "minorgridcolor": "white",
             "startlinecolor": "#2a3f5f"
            },
            "type": "carpet"
           }
          ],
          "choropleth": [
           {
            "colorbar": {
             "outlinewidth": 0,
             "ticks": ""
            },
            "type": "choropleth"
           }
          ],
          "contour": [
           {
            "colorbar": {
             "outlinewidth": 0,
             "ticks": ""
            },
            "colorscale": [
             [
              0,
              "#0d0887"
             ],
             [
              0.1111111111111111,
              "#46039f"
             ],
             [
              0.2222222222222222,
              "#7201a8"
             ],
             [
              0.3333333333333333,
              "#9c179e"
             ],
             [
              0.4444444444444444,
              "#bd3786"
             ],
             [
              0.5555555555555556,
              "#d8576b"
             ],
             [
              0.6666666666666666,
              "#ed7953"
             ],
             [
              0.7777777777777778,
              "#fb9f3a"
             ],
             [
              0.8888888888888888,
              "#fdca26"
             ],
             [
              1,
              "#f0f921"
             ]
            ],
            "type": "contour"
           }
          ],
          "contourcarpet": [
           {
            "colorbar": {
             "outlinewidth": 0,
             "ticks": ""
            },
            "type": "contourcarpet"
           }
          ],
          "heatmap": [
           {
            "colorbar": {
             "outlinewidth": 0,
             "ticks": ""
            },
            "colorscale": [
             [
              0,
              "#0d0887"
             ],
             [
              0.1111111111111111,
              "#46039f"
             ],
             [
              0.2222222222222222,
              "#7201a8"
             ],
             [
              0.3333333333333333,
              "#9c179e"
             ],
             [
              0.4444444444444444,
              "#bd3786"
             ],
             [
              0.5555555555555556,
              "#d8576b"
             ],
             [
              0.6666666666666666,
              "#ed7953"
             ],
             [
              0.7777777777777778,
              "#fb9f3a"
             ],
             [
              0.8888888888888888,
              "#fdca26"
             ],
             [
              1,
              "#f0f921"
             ]
            ],
            "type": "heatmap"
           }
          ],
          "histogram": [
           {
            "marker": {
             "pattern": {
              "fillmode": "overlay",
              "size": 10,
              "solidity": 0.2
             }
            },
            "type": "histogram"
           }
          ],
          "histogram2d": [
           {
            "colorbar": {
             "outlinewidth": 0,
             "ticks": ""
            },
            "colorscale": [
             [
              0,
              "#0d0887"
             ],
             [
              0.1111111111111111,
              "#46039f"
             ],
             [
              0.2222222222222222,
              "#7201a8"
             ],
             [
              0.3333333333333333,
              "#9c179e"
             ],
             [
              0.4444444444444444,
              "#bd3786"
             ],
             [
              0.5555555555555556,
              "#d8576b"
             ],
             [
              0.6666666666666666,
              "#ed7953"
             ],
             [
              0.7777777777777778,
              "#fb9f3a"
             ],
             [
              0.8888888888888888,
              "#fdca26"
             ],
             [
              1,
              "#f0f921"
             ]
            ],
            "type": "histogram2d"
           }
          ],
          "histogram2dcontour": [
           {
            "colorbar": {
             "outlinewidth": 0,
             "ticks": ""
            },
            "colorscale": [
             [
              0,
              "#0d0887"
             ],
             [
              0.1111111111111111,
              "#46039f"
             ],
             [
              0.2222222222222222,
              "#7201a8"
             ],
             [
              0.3333333333333333,
              "#9c179e"
             ],
             [
              0.4444444444444444,
              "#bd3786"
             ],
             [
              0.5555555555555556,
              "#d8576b"
             ],
             [
              0.6666666666666666,
              "#ed7953"
             ],
             [
              0.7777777777777778,
              "#fb9f3a"
             ],
             [
              0.8888888888888888,
              "#fdca26"
             ],
             [
              1,
              "#f0f921"
             ]
            ],
            "type": "histogram2dcontour"
           }
          ],
          "mesh3d": [
           {
            "colorbar": {
             "outlinewidth": 0,
             "ticks": ""
            },
            "type": "mesh3d"
           }
          ],
          "parcoords": [
           {
            "line": {
             "colorbar": {
              "outlinewidth": 0,
              "ticks": ""
             }
            },
            "type": "parcoords"
           }
          ],
          "pie": [
           {
            "automargin": true,
            "type": "pie"
           }
          ],
          "scatter": [
           {
            "fillpattern": {
             "fillmode": "overlay",
             "size": 10,
             "solidity": 0.2
            },
            "type": "scatter"
           }
          ],
          "scatter3d": [
           {
            "line": {
             "colorbar": {
              "outlinewidth": 0,
              "ticks": ""
             }
            },
            "marker": {
             "colorbar": {
              "outlinewidth": 0,
              "ticks": ""
             }
            },
            "type": "scatter3d"
           }
          ],
          "scattercarpet": [
           {
            "marker": {
             "colorbar": {
              "outlinewidth": 0,
              "ticks": ""
             }
            },
            "type": "scattercarpet"
           }
          ],
          "scattergeo": [
           {
            "marker": {
             "colorbar": {
              "outlinewidth": 0,
              "ticks": ""
             }
            },
            "type": "scattergeo"
           }
          ],
          "scattergl": [
           {
            "marker": {
             "colorbar": {
              "outlinewidth": 0,
              "ticks": ""
             }
            },
            "type": "scattergl"
           }
          ],
          "scattermap": [
           {
            "marker": {
             "colorbar": {
              "outlinewidth": 0,
              "ticks": ""
             }
            },
            "type": "scattermap"
           }
          ],
          "scattermapbox": [
           {
            "marker": {
             "colorbar": {
              "outlinewidth": 0,
              "ticks": ""
             }
            },
            "type": "scattermapbox"
           }
          ],
          "scatterpolar": [
           {
            "marker": {
             "colorbar": {
              "outlinewidth": 0,
              "ticks": ""
             }
            },
            "type": "scatterpolar"
           }
          ],
          "scatterpolargl": [
           {
            "marker": {
             "colorbar": {
              "outlinewidth": 0,
              "ticks": ""
             }
            },
            "type": "scatterpolargl"
           }
          ],
          "scatterternary": [
           {
            "marker": {
             "colorbar": {
              "outlinewidth": 0,
              "ticks": ""
             }
            },
            "type": "scatterternary"
           }
          ],
          "surface": [
           {
            "colorbar": {
             "outlinewidth": 0,
             "ticks": ""
            },
            "colorscale": [
             [
              0,
              "#0d0887"
             ],
             [
              0.1111111111111111,
              "#46039f"
             ],
             [
              0.2222222222222222,
              "#7201a8"
             ],
             [
              0.3333333333333333,
              "#9c179e"
             ],
             [
              0.4444444444444444,
              "#bd3786"
             ],
             [
              0.5555555555555556,
              "#d8576b"
             ],
             [
              0.6666666666666666,
              "#ed7953"
             ],
             [
              0.7777777777777778,
              "#fb9f3a"
             ],
             [
              0.8888888888888888,
              "#fdca26"
             ],
             [
              1,
              "#f0f921"
             ]
            ],
            "type": "surface"
           }
          ],
          "table": [
           {
            "cells": {
             "fill": {
              "color": "#EBF0F8"
             },
             "line": {
              "color": "white"
             }
            },
            "header": {
             "fill": {
              "color": "#C8D4E3"
             },
             "line": {
              "color": "white"
             }
            },
            "type": "table"
           }
          ]
         },
         "layout": {
          "annotationdefaults": {
           "arrowcolor": "#2a3f5f",
           "arrowhead": 0,
           "arrowwidth": 1
          },
          "autotypenumbers": "strict",
          "coloraxis": {
           "colorbar": {
            "outlinewidth": 0,
            "ticks": ""
           }
          },
          "colorscale": {
           "diverging": [
            [
             0,
             "#8e0152"
            ],
            [
             0.1,
             "#c51b7d"
            ],
            [
             0.2,
             "#de77ae"
            ],
            [
             0.3,
             "#f1b6da"
            ],
            [
             0.4,
             "#fde0ef"
            ],
            [
             0.5,
             "#f7f7f7"
            ],
            [
             0.6,
             "#e6f5d0"
            ],
            [
             0.7,
             "#b8e186"
            ],
            [
             0.8,
             "#7fbc41"
            ],
            [
             0.9,
             "#4d9221"
            ],
            [
             1,
             "#276419"
            ]
           ],
           "sequential": [
            [
             0,
             "#0d0887"
            ],
            [
             0.1111111111111111,
             "#46039f"
            ],
            [
             0.2222222222222222,
             "#7201a8"
            ],
            [
             0.3333333333333333,
             "#9c179e"
            ],
            [
             0.4444444444444444,
             "#bd3786"
            ],
            [
             0.5555555555555556,
             "#d8576b"
            ],
            [
             0.6666666666666666,
             "#ed7953"
            ],
            [
             0.7777777777777778,
             "#fb9f3a"
            ],
            [
             0.8888888888888888,
             "#fdca26"
            ],
            [
             1,
             "#f0f921"
            ]
           ],
           "sequentialminus": [
            [
             0,
             "#0d0887"
            ],
            [
             0.1111111111111111,
             "#46039f"
            ],
            [
             0.2222222222222222,
             "#7201a8"
            ],
            [
             0.3333333333333333,
             "#9c179e"
            ],
            [
             0.4444444444444444,
             "#bd3786"
            ],
            [
             0.5555555555555556,
             "#d8576b"
            ],
            [
             0.6666666666666666,
             "#ed7953"
            ],
            [
             0.7777777777777778,
             "#fb9f3a"
            ],
            [
             0.8888888888888888,
             "#fdca26"
            ],
            [
             1,
             "#f0f921"
            ]
           ]
          },
          "colorway": [
           "#636efa",
           "#EF553B",
           "#00cc96",
           "#ab63fa",
           "#FFA15A",
           "#19d3f3",
           "#FF6692",
           "#B6E880",
           "#FF97FF",
           "#FECB52"
          ],
          "font": {
           "color": "#2a3f5f"
          },
          "geo": {
           "bgcolor": "white",
           "lakecolor": "white",
           "landcolor": "#E5ECF6",
           "showlakes": true,
           "showland": true,
           "subunitcolor": "white"
          },
          "hoverlabel": {
           "align": "left"
          },
          "hovermode": "closest",
          "mapbox": {
           "style": "light"
          },
          "paper_bgcolor": "white",
          "plot_bgcolor": "#E5ECF6",
          "polar": {
           "angularaxis": {
            "gridcolor": "white",
            "linecolor": "white",
            "ticks": ""
           },
           "bgcolor": "#E5ECF6",
           "radialaxis": {
            "gridcolor": "white",
            "linecolor": "white",
            "ticks": ""
           }
          },
          "scene": {
           "xaxis": {
            "backgroundcolor": "#E5ECF6",
            "gridcolor": "white",
            "gridwidth": 2,
            "linecolor": "white",
            "showbackground": true,
            "ticks": "",
            "zerolinecolor": "white"
           },
           "yaxis": {
            "backgroundcolor": "#E5ECF6",
            "gridcolor": "white",
            "gridwidth": 2,
            "linecolor": "white",
            "showbackground": true,
            "ticks": "",
            "zerolinecolor": "white"
           },
           "zaxis": {
            "backgroundcolor": "#E5ECF6",
            "gridcolor": "white",
            "gridwidth": 2,
            "linecolor": "white",
            "showbackground": true,
            "ticks": "",
            "zerolinecolor": "white"
           }
          },
          "shapedefaults": {
           "line": {
            "color": "#2a3f5f"
           }
          },
          "ternary": {
           "aaxis": {
            "gridcolor": "white",
            "linecolor": "white",
            "ticks": ""
           },
           "baxis": {
            "gridcolor": "white",
            "linecolor": "white",
            "ticks": ""
           },
           "bgcolor": "#E5ECF6",
           "caxis": {
            "gridcolor": "white",
            "linecolor": "white",
            "ticks": ""
           }
          },
          "title": {
           "x": 0.05
          },
          "xaxis": {
           "automargin": true,
           "gridcolor": "white",
           "linecolor": "white",
           "ticks": "",
           "title": {
            "standoff": 15
           },
           "zerolinecolor": "white",
           "zerolinewidth": 2
          },
          "yaxis": {
           "automargin": true,
           "gridcolor": "white",
           "linecolor": "white",
           "ticks": "",
           "title": {
            "standoff": 15
           },
           "zerolinecolor": "white",
           "zerolinewidth": 2
          }
         }
        },
        "title": {
         "text": "Most Common 20 Term Frequencies"
        },
        "width": 2000,
        "xaxis": {
         "anchor": "y",
         "domain": [
          0,
          1
         ],
         "title": {
          "text": "Terms"
         }
        },
        "yaxis": {
         "anchor": "x",
         "domain": [
          0,
          1
         ],
         "title": {
          "text": "Frequencies"
         }
        }
       }
      }
     },
     "metadata": {},
     "output_type": "display_data"
    }
   ],
   "source": [
    "# The log distribution\n",
    "# Create bar chart\n",
    "fig = px.bar(\n",
    "    x=terms,\n",
    "    y=np.log(freqs),\n",
    "    labels={'x': 'Terms', 'y': 'Frequencies'},\n",
    "    title=\"Most Common 20 Term Frequencies\"\n",
    ")\n",
    "\n",
    "fig.update_layout(\n",
    "    width=2000,\n",
    "    height=600\n",
    ")\n",
    "\n",
    "fig.show()"
   ]
  },
  {
   "cell_type": "markdown",
   "metadata": {},
   "source": [
    "# Phase 2"
   ]
  },
  {
   "cell_type": "code",
   "execution_count": null,
   "metadata": {},
   "outputs": [],
   "source": [
    "### Begin Assignment Here"
   ]
  }
 ],
 "metadata": {
  "kernelspec": {
   "display_name": "Python 3",
   "language": "python",
   "name": "python3"
  },
  "language_info": {
   "codemirror_mode": {
    "name": "ipython",
    "version": 3
   },
   "file_extension": ".py",
   "mimetype": "text/x-python",
   "name": "python",
   "nbconvert_exporter": "python",
   "pygments_lexer": "ipython3",
   "version": "3.12.0"
  }
 },
 "nbformat": 4,
 "nbformat_minor": 4
}
